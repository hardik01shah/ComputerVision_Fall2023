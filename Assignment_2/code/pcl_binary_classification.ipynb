{
  "cells": [
    {
      "cell_type": "markdown",
      "metadata": {
        "id": "RfON4ph18yYL"
      },
      "source": [
        "# Point Cloud Binary Classification with PyTorch"
      ]
    },
    {
      "cell_type": "markdown",
      "metadata": {
        "id": "rqajidsA8yYS"
      },
      "source": [
        "Make sure you are using the `dl4cv` conda environment."
      ]
    },
    {
      "cell_type": "markdown",
      "metadata": {
        "id": "UQhqfcP-8yYU"
      },
      "source": [
        "## Dataset loading and visualization"
      ]
    },
    {
      "cell_type": "markdown",
      "metadata": {
        "id": "ahRLZNvj8yYX"
      },
      "source": [
        "The input X contain 100 2D points, and y are their corresponding labels (0 or 1). The goal is to train a model that can classify every point to its correct label.\n"
      ]
    },
    {
      "cell_type": "code",
      "execution_count": 24,
      "metadata": {
        "colab": {
          "base_uri": "https://localhost:8080/",
          "height": 447
        },
        "id": "44zWnQZM8yYa",
        "outputId": "a694d80d-ef40-4428-cc8a-596bfd1bb06f"
      },
      "outputs": [
        {
          "output_type": "display_data",
          "data": {
            "text/plain": [
              "<Figure size 640x480 with 1 Axes>"
            ],
            "image/png": "[encoded data removed]"
          },
          "metadata": {}
        },
        {
          "output_type": "display_data",
          "data": {
            "text/plain": [
              "<Figure size 640x480 with 0 Axes>"
            ]
          },
          "metadata": {}
        }
      ],
      "source": [
        "%matplotlib inline\n",
        "import matplotlib.pyplot as plt\n",
        "import numpy as np\n",
        "import torch\n",
        "import torch.nn as nn\n",
        "import torch.nn.functional as F\n",
        "import torch.optim as optim\n",
        "from torch.utils.data import Dataset\n",
        "from torch.utils.data import DataLoader\n",
        "from torch.optim import Adam\n",
        "\n",
        "dataset = np.load('./2d_pcl_dataset.npz')\n",
        "X, y = dataset['X'], dataset['y']\n",
        "\n",
        "X0 = X[y==0] # 50 2D points have label 0\n",
        "X1 = X[y==1] # 50 2D points have label 1\n",
        "\n",
        "def plot(X0, X1, fit_param=None):\n",
        "    plt.scatter(X0[:,0], X0[:,1], color='red', label=0)\n",
        "    plt.scatter(X1[:,0], X1[:,1], color='blue', label=1)\n",
        "\n",
        "    plt.xlim([-0.55, 0.55])\n",
        "    plt.ylim([-0.35, 0.25])\n",
        "    plt.legend()\n",
        "    plt.show()\n",
        "    plt.clf()\n",
        "\n",
        "plot(X0, X1)"
      ]
    },
    {
      "cell_type": "markdown",
      "metadata": {
        "id": "rW_DX85_8yYd"
      },
      "source": [
        "## Logistic Regression for the point cloud classification task\n"
      ]
    },
    {
      "cell_type": "markdown",
      "metadata": {
        "id": "L2NObQKS8yYe"
      },
      "source": [
        "Starting by filling in the `Simple2DDataset` class below. First, in the class constructore `__init__`, you will need to read the right `2d_pcl_dataset.npz` from disk.\n",
        "\n",
        "Second, in the `__getitem__`, you will need to take a single data point and its label based on its index `idx`"
      ]
    },
    {
      "cell_type": "code",
      "execution_count": 25,
      "metadata": {
        "id": "U2l8EOBT8yYg"
      },
      "outputs": [],
      "source": [
        "class Simple2DDataset(Dataset):\n",
        "    def __init__(self):\n",
        "        super().__init__()\n",
        "        #########################################################################\n",
        "        # TODO: read data from disk using np.load.\n",
        "        # Data is located in the folder \"data\".\n",
        "        # Save samples and labels to class members self.X and self.y respectively.\n",
        "        # samples should be an Nx2 numpy array. Labels should be Nx1.\n",
        "        #########################################################################\n",
        "        self.X = 0\n",
        "        self.y = 0\n",
        "        dataset = np.load('./2d_pcl_dataset.npz')\n",
        "        self.X, self.y = dataset['X'], dataset['y']\n",
        "\n",
        "    def __len__(self):\n",
        "        # Returns the number of samples in the dataset.\n",
        "        return self.X.shape[0]\n",
        "\n",
        "    def __getitem__(self, idx):\n",
        "        #########################################################################\n",
        "        # TODO: return the sample and label with index idx\n",
        "        #########################################################################\n",
        "        point = self.X[idx]\n",
        "        label = self.y[idx]\n",
        "\n",
        "        # Convert to tensor.\n",
        "        return torch.from_numpy(point).float(), \\\n",
        "               torch.from_numpy(label[np.newaxis]).float()\n"
      ]
    },
    {
      "cell_type": "markdown",
      "metadata": {
        "id": "zVNEDas-8yYj"
      },
      "source": [
        "With the complete `Simple2DDataset`, we can create a PyTorch dataloader\n",
        "\n",
        "**NOTE**: if you encounter some unexpected errors in data loading, try setting `NUM_WORKERS = 0`"
      ]
    },
    {
      "cell_type": "code",
      "execution_count": 26,
      "metadata": {
        "colab": {
          "base_uri": "https://localhost:8080/"
        },
        "id": "pmtesysl8yYm",
        "outputId": "002abe84-1916-4098-eef7-1b583e9179f4"
      },
      "outputs": [
        {
          "output_type": "stream",
          "name": "stderr",
          "text": [
            "/usr/local/lib/python3.10/dist-packages/torch/utils/data/dataloader.py:557: UserWarning: This DataLoader will create 4 worker processes in total. Our suggested max number of worker in current system is 2, which is smaller than what this DataLoader is going to create. Please be aware that excessive worker creation might get DataLoader running slow or even freeze, lower the worker number to avoid potential slowness/freeze if necessary.\n",
            "  warnings.warn(_create_warning_msg(\n"
          ]
        }
      ],
      "source": [
        "BATCH_SIZE = 8\n",
        "NUM_WORKERS = 4\n",
        "\n",
        "# create the dataloader\n",
        "dataset = Simple2DDataset()\n",
        "train_dataloader = DataLoader(\n",
        "    dataset,\n",
        "    batch_size=BATCH_SIZE,\n",
        "    num_workers=NUM_WORKERS,\n",
        "    shuffle=True\n",
        ")"
      ]
    },
    {
      "cell_type": "markdown",
      "metadata": {
        "id": "-Rz304Vx8yYp"
      },
      "source": [
        "Now, define your first network by filling in the `LinearClassifier` class below.\n",
        "\n",
        "Add a single linear layer `nn.Linear` inside the `nn.Sequential` call. The input is 2D, and the output should be a single value, corresponding to the probability of a given 2D point being part of cluster 0."
      ]
    },
    {
      "cell_type": "code",
      "execution_count": 27,
      "metadata": {
        "id": "1TieZhx68yYr"
      },
      "outputs": [],
      "source": [
        "class LinearClassifier(nn.Module):\n",
        "    def __init__(self):\n",
        "        super().__init__()\n",
        "\n",
        "        self.codename = 'linear'\n",
        "\n",
        "        #########################################################################\n",
        "        # TODO: add a single linear layer with nn.Linear, inside the `nn.Sequential` call.\n",
        "        # Input is 2D.\n",
        "        # Output is a single value.\n",
        "        #########################################################################\n",
        "        self.model = nn.Sequential(\n",
        "            nn.Linear(in_features=2, out_features=1)\n",
        "        )\n",
        "\n",
        "    def forward(self, batch):\n",
        "        # Process batch using the defined model.\n",
        "        x = self.model(batch)\n",
        "        # Final sigmoid activation to obtain a probability between 0 and 1.\n",
        "        return torch.sigmoid(x)"
      ]
    },
    {
      "cell_type": "markdown",
      "metadata": {
        "id": "wmEdv0738yYt"
      },
      "source": [
        "Now, you are asked to implement the training loop below"
      ]
    },
    {
      "cell_type": "code",
      "execution_count": 36,
      "metadata": {
        "id": "F148gD8n8yYu"
      },
      "outputs": [],
      "source": [
        "def train(net, optimizer, dataloader, epoch):\n",
        "    net.train()\n",
        "    loss_sum = 0\n",
        "    for batch_idx, (point, label) in enumerate(dataloader):\n",
        "        # First we need to zero the gradient, otherwise PyTorch would accumulate them\n",
        "        optimizer.zero_grad()\n",
        "\n",
        "        #########################################################################\n",
        "        #TODO:\n",
        "        # 1. forward pass of the network to obtain the predictions given the batch\n",
        "        # 2. compute the loss using F.binary_cross_entropy\n",
        "        # 3. backward pass on the loss using loss.backward(), and one step\n",
        "        # of gradient descent (optimization) using optimizer.step()\n",
        "        #########################################################################\n",
        "        y_pred = net(point)\n",
        "        loss = F.binary_cross_entropy(input=y_pred, target=label)\n",
        "        loss.backward()\n",
        "        optimizer.step()\n",
        "        loss_sum += loss.item()\n",
        "    return loss_sum\n",
        ""
      ]
    },
    {
      "cell_type": "markdown",
      "metadata": {
        "id": "NXY3Fa9y8yYv"
      },
      "source": [
        "You can now run below to train the linear model."
      ]
    },
    {
      "cell_type": "code",
      "execution_count": 37,
      "metadata": {
        "scrolled": true,
        "tags": [],
        "colab": {
          "base_uri": "https://localhost:8080/"
        },
        "id": "dT8j3Jpp8yYw",
        "outputId": "61aeb5df-28c9-4d91-9e65-05bf078523ee"
      },
      "outputs": [
        {
          "output_type": "stream",
          "name": "stdout",
          "text": [
            "[Epoch 01] Loss: 7.9183\n",
            "[Epoch 02] Loss: 6.3773\n",
            "[Epoch 03] Loss: 5.7783\n",
            "[Epoch 04] Loss: 5.1262\n",
            "[Epoch 05] Loss: 4.9214\n",
            "[Epoch 06] Loss: 4.7644\n",
            "[Epoch 07] Loss: 4.5685\n",
            "[Epoch 08] Loss: 4.1690\n",
            "[Epoch 09] Loss: 4.3242\n",
            "[Epoch 10] Loss: 4.2405\n",
            "[Epoch 11] Loss: 3.8986\n",
            "[Epoch 12] Loss: 3.9583\n",
            "[Epoch 13] Loss: 3.9657\n",
            "[Epoch 14] Loss: 3.9210\n",
            "[Epoch 15] Loss: 3.7820\n",
            "[Epoch 16] Loss: 3.8072\n",
            "[Epoch 17] Loss: 3.8754\n",
            "[Epoch 18] Loss: 3.6209\n",
            "[Epoch 19] Loss: 3.7980\n",
            "[Epoch 20] Loss: 3.6919\n",
            "[Epoch 21] Loss: 3.5803\n",
            "[Epoch 22] Loss: 3.6278\n",
            "[Epoch 23] Loss: 3.7083\n",
            "[Epoch 24] Loss: 3.5277\n",
            "[Epoch 25] Loss: 3.6195\n",
            "[Epoch 26] Loss: 3.5756\n",
            "[Epoch 27] Loss: 3.4739\n",
            "[Epoch 28] Loss: 3.6115\n",
            "[Epoch 29] Loss: 3.7238\n",
            "[Epoch 30] Loss: 3.5004\n",
            "[Epoch 31] Loss: 3.5329\n",
            "[Epoch 32] Loss: 3.7456\n",
            "[Epoch 33] Loss: 3.4755\n",
            "[Epoch 34] Loss: 3.5761\n",
            "[Epoch 35] Loss: 3.5033\n",
            "[Epoch 36] Loss: 3.6916\n",
            "[Epoch 37] Loss: 3.9375\n",
            "[Epoch 38] Loss: 3.4653\n",
            "[Epoch 39] Loss: 3.6790\n",
            "[Epoch 40] Loss: 3.4592\n",
            "[Epoch 41] Loss: 3.7061\n",
            "[Epoch 42] Loss: 3.4893\n",
            "[Epoch 43] Loss: 3.5623\n",
            "[Epoch 44] Loss: 3.4618\n",
            "[Epoch 45] Loss: 3.4705\n",
            "[Epoch 46] Loss: 3.7671\n",
            "[Epoch 47] Loss: 3.4847\n",
            "[Epoch 48] Loss: 3.6222\n",
            "[Epoch 49] Loss: 3.7233\n",
            "[Epoch 50] Loss: 3.4861\n",
            "[Epoch 51] Loss: 3.6797\n",
            "[Epoch 52] Loss: 3.6586\n",
            "[Epoch 53] Loss: 3.6370\n",
            "[Epoch 54] Loss: 3.6207\n",
            "[Epoch 55] Loss: 3.7596\n",
            "[Epoch 56] Loss: 3.4587\n",
            "[Epoch 57] Loss: 3.4946\n",
            "[Epoch 58] Loss: 3.6503\n",
            "[Epoch 59] Loss: 3.5883\n",
            "[Epoch 60] Loss: 3.6512\n",
            "[Epoch 61] Loss: 3.4693\n",
            "[Epoch 62] Loss: 3.5475\n",
            "[Epoch 63] Loss: 3.4799\n",
            "[Epoch 64] Loss: 3.4780\n",
            "[Epoch 65] Loss: 3.5031\n",
            "[Epoch 66] Loss: 3.4901\n",
            "[Epoch 67] Loss: 3.6333\n",
            "[Epoch 68] Loss: 3.5665\n",
            "[Epoch 69] Loss: 3.4646\n",
            "[Epoch 70] Loss: 3.9930\n",
            "[Epoch 71] Loss: 3.4453\n",
            "[Epoch 72] Loss: 3.5428\n",
            "[Epoch 73] Loss: 3.4502\n",
            "[Epoch 74] Loss: 3.4704\n",
            "[Epoch 75] Loss: 3.4480\n",
            "[Epoch 76] Loss: 3.4620\n",
            "[Epoch 77] Loss: 3.4890\n",
            "[Epoch 78] Loss: 3.4528\n",
            "[Epoch 79] Loss: 3.4742\n",
            "[Epoch 80] Loss: 3.5176\n",
            "[Epoch 81] Loss: 3.6329\n",
            "[Epoch 82] Loss: 3.4976\n",
            "[Epoch 83] Loss: 3.4664\n",
            "[Epoch 84] Loss: 3.7610\n",
            "[Epoch 85] Loss: 3.4532\n",
            "[Epoch 86] Loss: 3.5347\n",
            "[Epoch 87] Loss: 3.6940\n",
            "[Epoch 88] Loss: 3.4671\n",
            "[Epoch 89] Loss: 3.5692\n",
            "[Epoch 90] Loss: 3.5318\n",
            "[Epoch 91] Loss: 3.4915\n",
            "[Epoch 92] Loss: 3.4734\n",
            "[Epoch 93] Loss: 3.4959\n",
            "[Epoch 94] Loss: 3.5082\n",
            "[Epoch 95] Loss: 3.5128\n",
            "[Epoch 96] Loss: 3.6375\n",
            "[Epoch 97] Loss: 3.4328\n",
            "[Epoch 98] Loss: 3.5709\n",
            "[Epoch 99] Loss: 3.5730\n",
            "[Epoch 100] Loss: 3.7111\n"
          ]
        }
      ],
      "source": [
        "NUM_EPOCHS = 100\n",
        "# create the network.\n",
        "net = LinearClassifier()\n",
        "\n",
        "# create the optimizer.\n",
        "optimizer = Adam(net.parameters(), lr=0.1)\n",
        "\n",
        "best_accuracy = 0\n",
        "for epoch_idx in range(NUM_EPOCHS):\n",
        "    loss = train(net, optimizer, train_dataloader, epoch_idx)\n",
        "    print('[Epoch %02d] Loss: %.4f' % (epoch_idx + 1, loss))"
      ]
    },
    {
      "cell_type": "markdown",
      "metadata": {
        "id": "dARCzPVa8yYx"
      },
      "source": [
        "Now plot your result below.\n"
      ]
    },
    {
      "cell_type": "code",
      "execution_count": 37,
      "metadata": {
        "id": "6i9xwAPM8yYx"
      },
      "outputs": [],
      "source": []
    },
    {
      "cell_type": "code",
      "execution_count": 38,
      "metadata": {
        "colab": {
          "base_uri": "https://localhost:8080/",
          "height": 447
        },
        "id": "9dQXcYeW8yYy",
        "outputId": "ceb36623-f2a9-4ab6-c7e6-c8ae0c172d33"
      },
      "outputs": [
        {
          "output_type": "display_data",
          "data": {
            "text/plain": [
              "<Figure size 640x480 with 1 Axes>"
            ],
            "image/png": "[encoded data removed]"
          },
          "metadata": {}
        },
        {
          "output_type": "display_data",
          "data": {
            "text/plain": [
              "<Figure size 640x480 with 0 Axes>"
            ]
          },
          "metadata": {}
        }
      ],
      "source": [
        "p = np.linspace(-0.5, 0.5, 500)\n",
        "x_plot, y_plot = np.meshgrid(p, p)\n",
        "X_plot = np.stack((x_plot, y_plot), axis=2).reshape(-1, 2)\n",
        "X_plot = torch.from_numpy(X_plot).float()\n",
        "output = net(X_plot)\n",
        "output = output.detach().numpy()\n",
        "output = output.reshape(x_plot.shape[0], x_plot.shape[1])\n",
        "\n",
        "plt.contour(x_plot, y_plot, output, [0.5],\n",
        "                  colors=('k',),\n",
        "                  linewidths=(3,))\n",
        "plot(X0, X1)\n"
      ]
    },
    {
      "cell_type": "markdown",
      "metadata": {
        "id": "T1Y0V0cI8yY0"
      },
      "source": [
        "### Implement your first multi-layer perceptron (MLP) for point cloud classification\n",
        "Now you should notice that your logistic regression model cannot classify the point cloud correctly, and this is as expected :)  \n",
        "Therefore, we now ask you to implement an MLP for the same binary classification task."
      ]
    },
    {
      "cell_type": "code",
      "execution_count": 39,
      "metadata": {
        "id": "e1HdPOvj8yY1"
      },
      "outputs": [],
      "source": [
        "# These are the parameters to be used\n",
        "nInput = 2\n",
        "nOutput = 1\n",
        "nHidden = 16\n",
        "act_fn = nn.ReLU()\n",
        "\n",
        "class MLP(nn.Module):\n",
        "    def __init__(self, nInput, nOutput, nHidden, act_fn):\n",
        "        super().__init__()\n",
        "\n",
        "        # Define the network layers in order.\n",
        "        # Input is 2D (nInput).\n",
        "        # Output is a single value (nOutput).\n",
        "        # Multiple linear layers each followed by a ReLU non-linearity (apart from the last).\n",
        "        #########################################################################\n",
        "        # TODO: add a two-layer MLP, inside the `nn.Sequential` call.\n",
        "        # Input is 2D.\n",
        "        # Output is a single value.\n",
        "\n",
        "        # Hint: unlike logistic regression where you need only one nn.Linear layer,\n",
        "        # here you will have two nn.Linear layers. After the first layer, we\n",
        "        # apply a ReLU activation function. The output is then passed to another\n",
        "        # linear layer. Note that you should use `nHidden` below as the hidden dimension\n",
        "        # of your linear layers.\n",
        "        #########################################################################\n",
        "        self.model = nn.Sequential(\n",
        "            nn.Linear(in_features=nInput, out_features=nHidden),\n",
        "            nn.ReLU(),\n",
        "            nn.Linear(in_features=nHidden, out_features=nOutput),\n",
        "        )\n",
        "\n",
        "    def forward(self, batch):\n",
        "        # Process batch using the defined model.\n",
        "        x = self.model(batch)\n",
        "        # Final sigmoid activation to obtain a probability.\n",
        "        return torch.sigmoid(x)\n"
      ]
    },
    {
      "cell_type": "markdown",
      "metadata": {
        "id": "JpB6XBIR8yY3"
      },
      "source": [
        "Run below again!"
      ]
    },
    {
      "cell_type": "code",
      "execution_count": 40,
      "metadata": {
        "colab": {
          "base_uri": "https://localhost:8080/"
        },
        "id": "ZD1Hpqfb8yY4",
        "outputId": "117d159f-a17b-4c02-ef07-c067cb1cbfc2"
      },
      "outputs": [
        {
          "output_type": "stream",
          "name": "stdout",
          "text": [
            "[Epoch 01] Loss: 7.0154\n",
            "[Epoch 02] Loss: 4.4104\n",
            "[Epoch 03] Loss: 4.3723\n",
            "[Epoch 04] Loss: 4.3032\n",
            "[Epoch 05] Loss: 3.8457\n",
            "[Epoch 06] Loss: 4.0175\n",
            "[Epoch 07] Loss: 3.9099\n",
            "[Epoch 08] Loss: 3.7362\n",
            "[Epoch 09] Loss: 3.6864\n",
            "[Epoch 10] Loss: 3.6851\n",
            "[Epoch 11] Loss: 3.6719\n",
            "[Epoch 12] Loss: 3.6817\n",
            "[Epoch 13] Loss: 4.1670\n",
            "[Epoch 14] Loss: 3.8539\n",
            "[Epoch 15] Loss: 4.0978\n",
            "[Epoch 16] Loss: 3.2592\n",
            "[Epoch 17] Loss: 3.6414\n",
            "[Epoch 18] Loss: 3.1525\n",
            "[Epoch 19] Loss: 3.4358\n",
            "[Epoch 20] Loss: 3.1845\n",
            "[Epoch 21] Loss: 3.4937\n",
            "[Epoch 22] Loss: 3.6183\n",
            "[Epoch 23] Loss: 3.5746\n",
            "[Epoch 24] Loss: 3.2750\n",
            "[Epoch 25] Loss: 3.7185\n",
            "[Epoch 26] Loss: 3.1788\n",
            "[Epoch 27] Loss: 3.2981\n",
            "[Epoch 28] Loss: 3.3602\n",
            "[Epoch 29] Loss: 3.5373\n",
            "[Epoch 30] Loss: 3.5239\n",
            "[Epoch 31] Loss: 3.3406\n",
            "[Epoch 32] Loss: 3.2960\n",
            "[Epoch 33] Loss: 4.1971\n",
            "[Epoch 34] Loss: 3.2947\n",
            "[Epoch 35] Loss: 3.1938\n",
            "[Epoch 36] Loss: 3.2127\n",
            "[Epoch 37] Loss: 3.6334\n",
            "[Epoch 38] Loss: 3.3689\n",
            "[Epoch 39] Loss: 3.1966\n",
            "[Epoch 40] Loss: 3.2598\n",
            "[Epoch 41] Loss: 3.1618\n",
            "[Epoch 42] Loss: 3.3566\n",
            "[Epoch 43] Loss: 3.2482\n",
            "[Epoch 44] Loss: 3.4930\n",
            "[Epoch 45] Loss: 3.5111\n",
            "[Epoch 46] Loss: 3.1460\n",
            "[Epoch 47] Loss: 3.3870\n",
            "[Epoch 48] Loss: 3.3202\n",
            "[Epoch 49] Loss: 3.1352\n",
            "[Epoch 50] Loss: 3.2264\n",
            "[Epoch 51] Loss: 3.4281\n",
            "[Epoch 52] Loss: 3.0365\n",
            "[Epoch 53] Loss: 3.2540\n",
            "[Epoch 54] Loss: 3.1066\n",
            "[Epoch 55] Loss: 3.3819\n",
            "[Epoch 56] Loss: 3.3057\n",
            "[Epoch 57] Loss: 2.9380\n",
            "[Epoch 58] Loss: 3.1708\n",
            "[Epoch 59] Loss: 3.2925\n",
            "[Epoch 60] Loss: 3.4119\n",
            "[Epoch 61] Loss: 3.8414\n",
            "[Epoch 62] Loss: 2.9029\n",
            "[Epoch 63] Loss: 2.9092\n",
            "[Epoch 64] Loss: 2.7106\n",
            "[Epoch 65] Loss: 2.8637\n",
            "[Epoch 66] Loss: 2.2710\n",
            "[Epoch 67] Loss: 2.0972\n",
            "[Epoch 68] Loss: 1.9973\n",
            "[Epoch 69] Loss: 1.7587\n",
            "[Epoch 70] Loss: 1.5559\n",
            "[Epoch 71] Loss: 1.3883\n",
            "[Epoch 72] Loss: 1.2995\n",
            "[Epoch 73] Loss: 1.1546\n",
            "[Epoch 74] Loss: 1.4418\n",
            "[Epoch 75] Loss: 2.7571\n",
            "[Epoch 76] Loss: 3.5645\n",
            "[Epoch 77] Loss: 1.3094\n",
            "[Epoch 78] Loss: 0.8207\n",
            "[Epoch 79] Loss: 0.8797\n",
            "[Epoch 80] Loss: 0.7547\n",
            "[Epoch 81] Loss: 0.6148\n",
            "[Epoch 82] Loss: 0.5668\n",
            "[Epoch 83] Loss: 0.4657\n",
            "[Epoch 84] Loss: 0.4357\n",
            "[Epoch 85] Loss: 0.3991\n",
            "[Epoch 86] Loss: 0.3822\n",
            "[Epoch 87] Loss: 0.3821\n",
            "[Epoch 88] Loss: 0.3188\n",
            "[Epoch 89] Loss: 0.2974\n",
            "[Epoch 90] Loss: 0.3044\n",
            "[Epoch 91] Loss: 0.3826\n",
            "[Epoch 92] Loss: 0.2491\n",
            "[Epoch 93] Loss: 0.2903\n",
            "[Epoch 94] Loss: 0.2063\n",
            "[Epoch 95] Loss: 0.2119\n",
            "[Epoch 96] Loss: 0.1921\n",
            "[Epoch 97] Loss: 0.1554\n",
            "[Epoch 98] Loss: 0.2096\n",
            "[Epoch 99] Loss: 0.1737\n",
            "[Epoch 100] Loss: 0.1783\n",
            "[Epoch 101] Loss: 0.1883\n",
            "[Epoch 102] Loss: 0.1260\n",
            "[Epoch 103] Loss: 0.2845\n",
            "[Epoch 104] Loss: 0.9711\n",
            "[Epoch 105] Loss: 0.7811\n",
            "[Epoch 106] Loss: 2.8373\n",
            "[Epoch 107] Loss: 0.5991\n",
            "[Epoch 108] Loss: 0.3101\n",
            "[Epoch 109] Loss: 0.2421\n",
            "[Epoch 110] Loss: 0.1481\n",
            "[Epoch 111] Loss: 0.1316\n",
            "[Epoch 112] Loss: 0.1252\n",
            "[Epoch 113] Loss: 0.1123\n",
            "[Epoch 114] Loss: 0.1247\n",
            "[Epoch 115] Loss: 0.1216\n",
            "[Epoch 116] Loss: 0.1171\n",
            "[Epoch 117] Loss: 0.0975\n",
            "[Epoch 118] Loss: 0.0916\n",
            "[Epoch 119] Loss: 0.0851\n",
            "[Epoch 120] Loss: 0.0801\n",
            "[Epoch 121] Loss: 0.0763\n",
            "[Epoch 122] Loss: 0.0853\n",
            "[Epoch 123] Loss: 0.0878\n",
            "[Epoch 124] Loss: 0.0731\n",
            "[Epoch 125] Loss: 0.0863\n",
            "[Epoch 126] Loss: 0.0678\n",
            "[Epoch 127] Loss: 0.0838\n",
            "[Epoch 128] Loss: 0.0617\n",
            "[Epoch 129] Loss: 0.0935\n",
            "[Epoch 130] Loss: 0.0657\n",
            "[Epoch 131] Loss: 0.0756\n",
            "[Epoch 132] Loss: 0.0591\n",
            "[Epoch 133] Loss: 0.0625\n",
            "[Epoch 134] Loss: 0.0639\n",
            "[Epoch 135] Loss: 0.0735\n",
            "[Epoch 136] Loss: 0.0515\n",
            "[Epoch 137] Loss: 0.0673\n",
            "[Epoch 138] Loss: 0.0511\n",
            "[Epoch 139] Loss: 0.0599\n",
            "[Epoch 140] Loss: 0.0482\n",
            "[Epoch 141] Loss: 0.0507\n",
            "[Epoch 142] Loss: 0.0466\n",
            "[Epoch 143] Loss: 0.0446\n",
            "[Epoch 144] Loss: 0.0654\n",
            "[Epoch 145] Loss: 0.0514\n",
            "[Epoch 146] Loss: 0.0455\n",
            "[Epoch 147] Loss: 0.0630\n",
            "[Epoch 148] Loss: 0.0456\n",
            "[Epoch 149] Loss: 0.0510\n",
            "[Epoch 150] Loss: 0.0439\n",
            "[Epoch 151] Loss: 0.0390\n",
            "[Epoch 152] Loss: 0.0506\n",
            "[Epoch 153] Loss: 0.0542\n",
            "[Epoch 154] Loss: 0.0392\n",
            "[Epoch 155] Loss: 0.0418\n",
            "[Epoch 156] Loss: 0.0356\n",
            "[Epoch 157] Loss: 0.0352\n",
            "[Epoch 158] Loss: 0.0358\n",
            "[Epoch 159] Loss: 0.0327\n",
            "[Epoch 160] Loss: 0.0332\n",
            "[Epoch 161] Loss: 0.0333\n",
            "[Epoch 162] Loss: 0.0317\n",
            "[Epoch 163] Loss: 0.0305\n",
            "[Epoch 164] Loss: 0.0321\n",
            "[Epoch 165] Loss: 0.0373\n",
            "[Epoch 166] Loss: 0.0350\n",
            "[Epoch 167] Loss: 0.0334\n",
            "[Epoch 168] Loss: 0.0371\n",
            "[Epoch 169] Loss: 0.0316\n",
            "[Epoch 170] Loss: 0.0272\n",
            "[Epoch 171] Loss: 0.0365\n",
            "[Epoch 172] Loss: 0.0244\n",
            "[Epoch 173] Loss: 0.0452\n",
            "[Epoch 174] Loss: 0.0596\n",
            "[Epoch 175] Loss: 0.0379\n",
            "[Epoch 176] Loss: 0.0290\n",
            "[Epoch 177] Loss: 0.0247\n",
            "[Epoch 178] Loss: 0.0234\n",
            "[Epoch 179] Loss: 0.0271\n",
            "[Epoch 180] Loss: 0.0246\n",
            "[Epoch 181] Loss: 0.0230\n",
            "[Epoch 182] Loss: 0.0219\n",
            "[Epoch 183] Loss: 0.0218\n",
            "[Epoch 184] Loss: 0.0212\n",
            "[Epoch 185] Loss: 0.0218\n",
            "[Epoch 186] Loss: 0.0207\n",
            "[Epoch 187] Loss: 0.0206\n",
            "[Epoch 188] Loss: 0.0206\n",
            "[Epoch 189] Loss: 0.0225\n",
            "[Epoch 190] Loss: 0.0188\n",
            "[Epoch 191] Loss: 0.0216\n",
            "[Epoch 192] Loss: 0.0188\n",
            "[Epoch 193] Loss: 0.0206\n",
            "[Epoch 194] Loss: 0.0191\n",
            "[Epoch 195] Loss: 0.0181\n",
            "[Epoch 196] Loss: 0.0192\n",
            "[Epoch 197] Loss: 0.0177\n",
            "[Epoch 198] Loss: 0.0176\n",
            "[Epoch 199] Loss: 0.0247\n",
            "[Epoch 200] Loss: 0.0167\n"
          ]
        }
      ],
      "source": [
        "NUM_EPOCHS = 200\n",
        "\n",
        "# create the network.\n",
        "net = MLP(nInput, nOutput, nHidden, act_fn)\n",
        "\n",
        "# create the optimizer.\n",
        "optimizer = Adam(net.parameters(), lr=0.1)\n",
        "\n",
        "best_accuracy = 0\n",
        "for epoch_idx in range(NUM_EPOCHS):\n",
        "    loss = train(net, optimizer, train_dataloader, epoch_idx)\n",
        "    print('[Epoch %02d] Loss: %.4f' % (epoch_idx + 1, loss))"
      ]
    },
    {
      "cell_type": "markdown",
      "metadata": {
        "id": "oxT-zpXj8yY5"
      },
      "source": [
        "Again plot your result. You should see that the decision boundary can clearly separate the point clouds.\n"
      ]
    },
    {
      "cell_type": "code",
      "execution_count": 41,
      "metadata": {
        "colab": {
          "base_uri": "https://localhost:8080/",
          "height": 447
        },
        "id": "Pj5Yo5ZT8yY6",
        "outputId": "335dfcef-98a0-4470-cff3-141f43ff9198"
      },
      "outputs": [
        {
          "output_type": "display_data",
          "data": {
            "text/plain": [
              "<Figure size 640x480 with 1 Axes>"
            ],
            "image/png": "[encoded data removed]"
          },
          "metadata": {}
        },
        {
          "output_type": "display_data",
          "data": {
            "text/plain": [
              "<Figure size 640x480 with 0 Axes>"
            ]
          },
          "metadata": {}
        }
      ],
      "source": [
        "p = np.linspace(-0.5, 0.5, 500)\n",
        "x_plot, y_plot = np.meshgrid(p, p)\n",
        "X_plot = np.stack((x_plot, y_plot), axis=2).reshape(-1, 2)\n",
        "X_plot = torch.from_numpy(X_plot).float()\n",
        "output = net(X_plot)\n",
        "output = output.detach().numpy()\n",
        "output = output.reshape(x_plot.shape[0], x_plot.shape[1])\n",
        "\n",
        "plt.contour(x_plot, y_plot, output, [0.5],\n",
        "                  colors=('k',),\n",
        "                  linewidths=(3,))\n",
        "plot(X0, X1)"
      ]
    },
    {
      "cell_type": "markdown",
      "metadata": {
        "id": "A007TJHD8yY7"
      },
      "source": [
        "When you are done, move forward to `image_classification.ipynb`."
      ]
    },
    {
      "cell_type": "markdown",
      "metadata": {
        "id": "FfoVMm1s8yY8"
      },
      "source": []
    }
  ],
  "metadata": {
    "kernelspec": {
      "display_name": "Python 3.9.12 ('base')",
      "language": "python",
      "name": "python3"
    },
    "language_info": {
      "codemirror_mode": {
        "name": "ipython",
        "version": 3
      },
      "file_extension": ".py",
      "mimetype": "text/x-python",
      "name": "python",
      "nbconvert_exporter": "python",
      "pygments_lexer": "ipython3",
      "version": "3.9.12"
    },
    "vscode": {
      "interpreter": {
        "hash": "d268b61a0efacafa8645774cb6d0204c9f01d7563ef03f7672146d044e8f345c"
      }
    },
    "colab": {
      "provenance": []
    }
  },
  "nbformat": 4,
  "nbformat_minor": 0
}