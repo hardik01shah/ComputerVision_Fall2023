{
  "cells": [
    {
      "cell_type": "markdown",
      "metadata": {
        "id": "L8pMD0PFIQce"
      },
      "source": [
        "# Image Classification with PyTorch"
      ]
    },
    {
      "cell_type": "markdown",
      "metadata": {
        "id": "cp_1PNNrIQcj"
      },
      "source": [
        "## Data loading\n"
      ]
    },
    {
      "cell_type": "code",
      "execution_count": 1,
      "metadata": {
        "id": "ceDAAXvCIQcm"
      },
      "outputs": [],
      "source": [
        "import numpy as np\n",
        "import matplotlib.pyplot as plt\n",
        "\n",
        "import torch\n",
        "import torch.nn as nn\n",
        "import torch.nn.functional as F\n",
        "import torch.optim as optim\n",
        "from torch.utils.data import DataLoader\n",
        "import torchvision\n",
        "from torchvision import datasets, transforms"
      ]
    },
    {
      "cell_type": "code",
      "execution_count": 2,
      "metadata": {
        "colab": {
          "base_uri": "https://localhost:8080/"
        },
        "id": "uBrw72OvIQcr",
        "outputId": "7637160c-5e9f-4e60-a0db-2c19aaf0a06a"
      },
      "outputs": [
        {
          "output_type": "stream",
          "name": "stdout",
          "text": [
            "Downloading http://yann.lecun.com/exdb/mnist/train-images-idx3-ubyte.gz\n",
            "Downloading http://yann.lecun.com/exdb/mnist/train-images-idx3-ubyte.gz to data/MNIST/raw/train-images-idx3-ubyte.gz\n"
          ]
        },
        {
          "output_type": "stream",
          "name": "stderr",
          "text": [
            "100%|██████████| 9912422/9912422 [00:00<00:00, 22157475.67it/s]\n"
          ]
        },
        {
          "output_type": "stream",
          "name": "stdout",
          "text": [
            "Extracting data/MNIST/raw/train-images-idx3-ubyte.gz to data/MNIST/raw\n",
            "\n",
            "Downloading http://yann.lecun.com/exdb/mnist/train-labels-idx1-ubyte.gz\n",
            "Downloading http://yann.lecun.com/exdb/mnist/train-labels-idx1-ubyte.gz to data/MNIST/raw/train-labels-idx1-ubyte.gz\n"
          ]
        },
        {
          "output_type": "stream",
          "name": "stderr",
          "text": [
            "100%|██████████| 28881/28881 [00:00<00:00, 51967264.62it/s]\n"
          ]
        },
        {
          "output_type": "stream",
          "name": "stdout",
          "text": [
            "Extracting data/MNIST/raw/train-labels-idx1-ubyte.gz to data/MNIST/raw\n",
            "\n",
            "Downloading http://yann.lecun.com/exdb/mnist/t10k-images-idx3-ubyte.gz\n",
            "Downloading http://yann.lecun.com/exdb/mnist/t10k-images-idx3-ubyte.gz to data/MNIST/raw/t10k-images-idx3-ubyte.gz\n"
          ]
        },
        {
          "output_type": "stream",
          "name": "stderr",
          "text": [
            "100%|██████████| 1648877/1648877 [00:00<00:00, 30143140.31it/s]\n"
          ]
        },
        {
          "output_type": "stream",
          "name": "stdout",
          "text": [
            "Extracting data/MNIST/raw/t10k-images-idx3-ubyte.gz to data/MNIST/raw\n",
            "\n",
            "Downloading http://yann.lecun.com/exdb/mnist/t10k-labels-idx1-ubyte.gz\n",
            "Downloading http://yann.lecun.com/exdb/mnist/t10k-labels-idx1-ubyte.gz to data/MNIST/raw/t10k-labels-idx1-ubyte.gz\n"
          ]
        },
        {
          "output_type": "stream",
          "name": "stderr",
          "text": [
            "100%|██████████| 4542/4542 [00:00<00:00, 12057296.69it/s]"
          ]
        },
        {
          "output_type": "stream",
          "name": "stdout",
          "text": [
            "Extracting data/MNIST/raw/t10k-labels-idx1-ubyte.gz to data/MNIST/raw\n",
            "\n"
          ]
        },
        {
          "output_type": "stream",
          "name": "stderr",
          "text": [
            "\n"
          ]
        }
      ],
      "source": [
        "# torchvision contains convinience functions for popular datasets\n",
        "ds_train = datasets.MNIST('data', train=True, download=True)"
      ]
    },
    {
      "cell_type": "markdown",
      "metadata": {
        "id": "Cv5MIvGpIQct"
      },
      "source": [
        "Each sample is a 28x28 image"
      ]
    },
    {
      "cell_type": "code",
      "execution_count": 3,
      "metadata": {
        "colab": {
          "base_uri": "https://localhost:8080/",
          "height": 154
        },
        "id": "7D8ELc4VIQcv",
        "outputId": "651d1e10-759e-4737-dd1d-32093d40c673"
      },
      "outputs": [
        {
          "output_type": "stream",
          "name": "stdout",
          "text": [
            "(<PIL.Image.Image image mode=L size=28x28 at 0x7EF8048FD180>, 5)\n"
          ]
        },
        {
          "output_type": "execute_result",
          "data": {
            "text/plain": [
              "<PIL.Image.Image image mode=L size=120x120>"
            ],
            "image/png": "[encoded data removed]"
          },
          "metadata": {},
          "execution_count": 3
        }
      ],
      "source": [
        "# if we index this dataset, we get a single data point: a PIL image and an Integer\n",
        "print(ds_train[0])\n",
        "ds_train[0][0].resize((120,120))"
      ]
    },
    {
      "cell_type": "markdown",
      "metadata": {
        "id": "9s9Nc9mpIQcx"
      },
      "source": [
        "Let's transform the data to something that our Pytorch models will understand\n",
        "for this purpose, we can supply a transform function to the datase"
      ]
    },
    {
      "cell_type": "code",
      "execution_count": 4,
      "metadata": {
        "id": "zl6wFsstIQcz"
      },
      "outputs": [],
      "source": [
        "transform = transforms.Compose([\n",
        "    transforms.ToTensor(),\n",
        "])\n",
        "ds_train = datasets.MNIST('data', train=True, download=True, transform=transform)"
      ]
    },
    {
      "cell_type": "markdown",
      "metadata": {
        "id": "twi-Xw8DIQc2"
      },
      "source": [
        "The image is now a `torch.Tensor`"
      ]
    },
    {
      "cell_type": "code",
      "execution_count": 5,
      "metadata": {
        "colab": {
          "base_uri": "https://localhost:8080/"
        },
        "id": "K6janVhKIQc5",
        "outputId": "a27f9916-b73d-4571-f0bd-f59f7ffaefcf"
      },
      "outputs": [
        {
          "output_type": "execute_result",
          "data": {
            "text/plain": [
              "torch.Tensor"
            ]
          },
          "metadata": {},
          "execution_count": 5
        }
      ],
      "source": [
        "type(ds_train[0][0])"
      ]
    },
    {
      "cell_type": "markdown",
      "metadata": {
        "id": "ATZtDflUIQc7"
      },
      "source": [
        "The normalization is something you learned about in the lecture. Normalizing with $\\mu=0, \\sigma=1$ corresponds to no normalization. Let's compute the proper normalization constants!"
      ]
    },
    {
      "cell_type": "code",
      "execution_count": 7,
      "metadata": {
        "id": "x_iE1E9sIQc9"
      },
      "outputs": [],
      "source": [
        "# lets get only the images\n",
        "ims_train = ds_train.data\n",
        "ims_train = ims_train.float() / 255."
      ]
    },
    {
      "cell_type": "code",
      "execution_count": 17,
      "metadata": {
        "id": "ooiFxEyeIQc_"
      },
      "outputs": [],
      "source": [
        "#########################################################################\n",
        "# TODO: calculate the mean and std of MNIST images\n",
        "# hint: to look for operations on pytorch tensor, refer to the official PyTorch docs\n",
        "# https://pytorch.org/docs/stable/\n",
        "#########################################################################\n",
        "mu = torch.mean(ims_train)\n",
        "std = torch.std(ims_train)"
      ]
    },
    {
      "cell_type": "markdown",
      "metadata": {
        "id": "R-cNzcCjIQdA"
      },
      "source": [
        "We normalize the data as below."
      ]
    },
    {
      "cell_type": "code",
      "execution_count": 18,
      "metadata": {
        "id": "99r-Wp6YIQdB"
      },
      "outputs": [],
      "source": [
        "transform = transforms.Compose([\n",
        "    transforms.ToTensor(),\n",
        "    transforms.Normalize(mu, std)\n",
        "])\n",
        "ds_train = datasets.MNIST('data', train=True, download=True, transform=transform)\n",
        "ds_test = datasets.MNIST('data', train=False, download=True, transform=transform)"
      ]
    },
    {
      "cell_type": "code",
      "execution_count": 19,
      "metadata": {
        "colab": {
          "base_uri": "https://localhost:8080/"
        },
        "id": "qdKiUvpIIQdC",
        "outputId": "ba85cdec-16e2-4e80-b2a7-007c2183e10f"
      },
      "outputs": [
        {
          "output_type": "execute_result",
          "data": {
            "text/plain": [
              "(tensor(-0.4241), tensor(2.8215))"
            ]
          },
          "metadata": {},
          "execution_count": 19
        }
      ],
      "source": [
        "ds_train[0][0].min(), ds_train[0][0].max()"
      ]
    },
    {
      "cell_type": "markdown",
      "metadata": {
        "id": "D-gjxOpqIQdE"
      },
      "source": [
        "Next, we want to receive mini-batches, not only single data points.\n",
        "We use PyTorch's DataLoader class. Build a dataloader with a batch size of 64 and 4 workers (number of subprocess that peform the dataloading). Important: you need to shuffle the training data, not the test data.\n",
        "\n",
        "**NOTE**: if you encounter some unexpected errors in data loading, try setting `NUM_WORKERS = 0`"
      ]
    },
    {
      "cell_type": "code",
      "execution_count": 20,
      "metadata": {
        "colab": {
          "base_uri": "https://localhost:8080/"
        },
        "id": "dk18-xB6IQdF",
        "outputId": "0729d5de-d286-4ced-fb19-d634b4cd4cde"
      },
      "outputs": [
        {
          "output_type": "stream",
          "name": "stderr",
          "text": [
            "/usr/local/lib/python3.10/dist-packages/torch/utils/data/dataloader.py:557: UserWarning: This DataLoader will create 4 worker processes in total. Our suggested max number of worker in current system is 2, which is smaller than what this DataLoader is going to create. Please be aware that excessive worker creation might get DataLoader running slow or even freeze, lower the worker number to avoid potential slowness/freeze if necessary.\n",
            "  warnings.warn(_create_warning_msg(\n"
          ]
        }
      ],
      "source": [
        "BATCH_SIZE = 64\n",
        "NUM_WORKERS = 4\n",
        "#########################################################################\n",
        "# TODO: Build a dataloader for both train and test data.\n",
        "#########################################################################\n",
        "dl_train = DataLoader(\n",
        "    dataset=ds_train,\n",
        "    batch_size=BATCH_SIZE,\n",
        "    shuffle=True,\n",
        "    num_workers=NUM_WORKERS)\n",
        "dl_test = DataLoader(\n",
        "    dataset=ds_test,\n",
        "    batch_size=BATCH_SIZE,\n",
        "    shuffle=False,\n",
        "    num_workers=NUM_WORKERS)"
      ]
    },
    {
      "cell_type": "markdown",
      "metadata": {
        "id": "eQy7PI0EIQdG"
      },
      "source": [
        "## MLP in Pytorch\n",
        "\n",
        "Ok, the dataloading works. Let's build our model, PyTorch makes this very easy. We will build replicate the model from our last exercises. However, now, we add another variable called `nLayer` that indicates how many linear layers that in your network. Please adapt your code from last exercise accordingly to allow different number of layers."
      ]
    },
    {
      "cell_type": "code",
      "execution_count": 21,
      "metadata": {
        "id": "vqYiJ7SGIQdH"
      },
      "outputs": [],
      "source": [
        "# These are the parameters to be used\n",
        "nInput = 784\n",
        "nOutput = 10\n",
        "nLayer = 2\n",
        "nHidden = 16\n",
        "act_fn = nn.ReLU()"
      ]
    },
    {
      "cell_type": "code",
      "execution_count": 52,
      "metadata": {
        "id": "niJkSPRSIQdJ"
      },
      "outputs": [],
      "source": [
        "#########################################################################\n",
        "# TODO: Implement the __init__ of the MLP class.\n",
        "# insert the activation after every linear layer. Important: the number of\n",
        "# hidden layers should be variable!\n",
        "#########################################################################\n",
        "\n",
        "class MLP(nn.Module):\n",
        "    def __init__(self, nInput, nOutput, nLayer, nHidden, act_fn):\n",
        "        super(MLP, self).__init__()\n",
        "        layers = []\n",
        "\n",
        "        ##### implement this part #####\n",
        "        for i in range(nLayer):\n",
        "          if i==0:\n",
        "            layers.append(\n",
        "                nn.Linear(in_features=nInput, out_features=nHidden)\n",
        "            )\n",
        "            layers.append(\n",
        "                act_fn\n",
        "            )\n",
        "          elif 0<i<nLayer-1:\n",
        "            layers.append(\n",
        "                nn.Linear(in_features=nHidden, out_features=nHidden)\n",
        "            )\n",
        "            layers.append(\n",
        "                act_fn\n",
        "            )\n",
        "          else:\n",
        "            layers.append(\n",
        "                nn.Linear(in_features=nHidden, out_features=nOutput)\n",
        "            )\n",
        "            # layers.append(\n",
        "            #     nn.Softmax()\n",
        "            # )\n",
        "\n",
        "        ###############################\n",
        "\n",
        "        self.model = nn.Sequential(*layers)\n",
        "\n",
        "    def forward(self, x):\n",
        "        x = torch.flatten(x, 1)\n",
        "        return self.model(x)"
      ]
    },
    {
      "cell_type": "code",
      "execution_count": 45,
      "metadata": {
        "scrolled": true,
        "colab": {
          "base_uri": "https://localhost:8080/"
        },
        "id": "SML1yHCpIQdK",
        "outputId": "34b3d517-f1fd-44e1-df5f-cab04898484d"
      },
      "outputs": [
        {
          "output_type": "execute_result",
          "data": {
            "text/plain": [
              "torch.Size([1, 10])"
            ]
          },
          "metadata": {},
          "execution_count": 45
        }
      ],
      "source": [
        "# Let's test if the forward pass works\n",
        "# this should print torch.Size([1, 10])\n",
        "t = torch.randn(1,1,28,28)\n",
        "mlp = MLP(nInput, nOutput, nLayer, nHidden, act_fn)\n",
        "mlp(t).shape"
      ]
    },
    {
      "cell_type": "code",
      "execution_count": 46,
      "metadata": {
        "colab": {
          "base_uri": "https://localhost:8080/"
        },
        "id": "IZNTAZW_IQdL",
        "outputId": "acbcd970-2c37-4e58-86aa-6a0a5d797423"
      },
      "outputs": [
        {
          "output_type": "execute_result",
          "data": {
            "text/plain": [
              "MLP(\n",
              "  (model): Sequential(\n",
              "    (0): Linear(in_features=784, out_features=16, bias=True)\n",
              "    (1): ReLU()\n",
              "    (2): Linear(in_features=16, out_features=10, bias=True)\n",
              "  )\n",
              ")"
            ]
          },
          "metadata": {},
          "execution_count": 46
        }
      ],
      "source": [
        "mlp"
      ]
    },
    {
      "cell_type": "markdown",
      "metadata": {
        "id": "IZt9FzK-IQdL"
      },
      "source": [
        "We already implemented the test function for you"
      ]
    },
    {
      "cell_type": "code",
      "execution_count": 47,
      "metadata": {
        "id": "xUBijZdGIQdM"
      },
      "outputs": [],
      "source": [
        "def test(model, dl_test, device='cpu'):\n",
        "    model.eval()\n",
        "    test_loss = 0\n",
        "    correct = 0\n",
        "    with torch.no_grad():\n",
        "        for data, target in dl_test:\n",
        "            data, target = data.to(device), target.to(device)\n",
        "            output = model(data)\n",
        "            test_loss += F.cross_entropy(output, target, reduction='sum').item()  # sum up batch loss\n",
        "            pred = output.argmax(dim=1, keepdim=True)  # get the index of the max log-probability\n",
        "            correct += pred.eq(target.view_as(pred)).sum().item()\n",
        "\n",
        "    test_loss /= len(dl_test.dataset)\n",
        "\n",
        "    print('\\nTest set: Average loss: {:.4f}, Accuracy: {}/{} ({:.3f}%)\\n'.format(\n",
        "        test_loss, correct, len(dl_test.dataset),\n",
        "        100. * correct / len(dl_test.dataset)))"
      ]
    },
    {
      "cell_type": "markdown",
      "metadata": {
        "id": "0uSeKs5eIQdN"
      },
      "source": [
        "Now you only need to implement the training and you are good to go"
      ]
    },
    {
      "cell_type": "code",
      "execution_count": 48,
      "metadata": {
        "id": "hvrdsyrJIQdO"
      },
      "outputs": [],
      "source": [
        "#########################################################################\n",
        "# TODO: Implement the missing part of the training function. As a loss function we want to use cross entropy\n",
        "# It can be called with F.cross_entropy().\n",
        "# Hint: Pass through the model -> Backpropagate gradients -> Take gradient step\n",
        "#########################################################################\n",
        "\n",
        "def train(model, dl_train, optimizer, epoch, log_interval=100, device='cpu'):\n",
        "    model.train()\n",
        "    correct = 0\n",
        "    for batch_idx, (data, target) in enumerate(dl_train):\n",
        "        data, target = data.to(device), target.to(device)\n",
        "\n",
        "        # first we need to zero the gradient, otherwise PyTorch would accumulate them\n",
        "        optimizer.zero_grad()\n",
        "\n",
        "        ##### implement this part #####\n",
        "        output = model(data)\n",
        "        loss = F.cross_entropy(\n",
        "            input=output,\n",
        "            target=target,\n",
        "        )\n",
        "        loss.backward()\n",
        "        optimizer.step()\n",
        "        ###############################\n",
        "\n",
        "        # stats\n",
        "        pred = output.argmax(dim=1, keepdim=True)  # get the index of the max log-probability\n",
        "        correct += pred.eq(target.view_as(pred)).sum().item()\n",
        "\n",
        "        if batch_idx % log_interval == 0:\n",
        "            print('Train Epoch: {} [{}/{} ({:.0f}%)]\\tLoss: {:.6f}'.format(\n",
        "                epoch, batch_idx * len(data), len(dl_train.dataset),\n",
        "                100. * batch_idx / len(dl_train), loss.item()))\n",
        "\n",
        "    print('\\nTrain set: Average loss: {:.4f}, Accuracy: {}/{} ({:.1f}%)\\n'.format(\n",
        "        loss, correct, len(dl_train.dataset),\n",
        "        100. * correct / len(dl_train.dataset)))"
      ]
    },
    {
      "cell_type": "markdown",
      "metadata": {
        "id": "-ZDnwFzbIQdP"
      },
      "source": [
        "Ok, the setup is almost done. The onoly missing part is the optimizer. We are going to use Adam."
      ]
    },
    {
      "cell_type": "code",
      "execution_count": 49,
      "metadata": {
        "id": "rUeCwg60IQdQ"
      },
      "outputs": [],
      "source": [
        "# reinitialize the mlp, so we can play with parameters right here\n",
        "mlp = MLP(nInput, nOutput, nLayer, nHidden, act_fn)\n",
        "optimizer = optim.Adam(mlp.parameters())"
      ]
    },
    {
      "cell_type": "code",
      "execution_count": 50,
      "metadata": {
        "scrolled": true,
        "colab": {
          "base_uri": "https://localhost:8080/"
        },
        "id": "TPV-7ZzLIQdR",
        "outputId": "969b934b-9228-4bbb-9868-9c03f47c0cc2"
      },
      "outputs": [
        {
          "output_type": "stream",
          "name": "stderr",
          "text": [
            "/usr/local/lib/python3.10/dist-packages/torch/utils/data/dataloader.py:557: UserWarning: This DataLoader will create 4 worker processes in total. Our suggested max number of worker in current system is 2, which is smaller than what this DataLoader is going to create. Please be aware that excessive worker creation might get DataLoader running slow or even freeze, lower the worker number to avoid potential slowness/freeze if necessary.\n",
            "  warnings.warn(_create_warning_msg(\n"
          ]
        },
        {
          "output_type": "stream",
          "name": "stdout",
          "text": [
            "Train Epoch: 1 [0/60000 (0%)]\tLoss: 2.311326\n",
            "Train Epoch: 1 [6400/60000 (11%)]\tLoss: 0.630181\n",
            "Train Epoch: 1 [12800/60000 (21%)]\tLoss: 0.453992\n",
            "Train Epoch: 1 [19200/60000 (32%)]\tLoss: 0.336242\n",
            "Train Epoch: 1 [25600/60000 (43%)]\tLoss: 0.546914\n",
            "Train Epoch: 1 [32000/60000 (53%)]\tLoss: 0.333300\n",
            "Train Epoch: 1 [38400/60000 (64%)]\tLoss: 0.501674\n",
            "Train Epoch: 1 [44800/60000 (75%)]\tLoss: 0.273225\n",
            "Train Epoch: 1 [51200/60000 (85%)]\tLoss: 0.359314\n",
            "Train Epoch: 1 [57600/60000 (96%)]\tLoss: 0.200094\n",
            "\n",
            "Train set: Average loss: 0.2444, Accuracy: 52920/60000 (88.2%)\n",
            "\n",
            "\n",
            "Test set: Average loss: 0.2672, Accuracy: 9218/10000 (92.180%)\n",
            "\n",
            "Train Epoch: 2 [0/60000 (0%)]\tLoss: 0.109773\n",
            "Train Epoch: 2 [6400/60000 (11%)]\tLoss: 0.300887\n",
            "Train Epoch: 2 [12800/60000 (21%)]\tLoss: 0.220660\n",
            "Train Epoch: 2 [19200/60000 (32%)]\tLoss: 0.387522\n",
            "Train Epoch: 2 [25600/60000 (43%)]\tLoss: 0.344850\n",
            "Train Epoch: 2 [32000/60000 (53%)]\tLoss: 0.122337\n",
            "Train Epoch: 2 [38400/60000 (64%)]\tLoss: 0.165927\n",
            "Train Epoch: 2 [44800/60000 (75%)]\tLoss: 0.268419\n",
            "Train Epoch: 2 [51200/60000 (85%)]\tLoss: 0.271043\n",
            "Train Epoch: 2 [57600/60000 (96%)]\tLoss: 0.105109\n",
            "\n",
            "Train set: Average loss: 0.5765, Accuracy: 55476/60000 (92.5%)\n",
            "\n",
            "\n",
            "Test set: Average loss: 0.2338, Accuracy: 9294/10000 (92.940%)\n",
            "\n",
            "Train Epoch: 3 [0/60000 (0%)]\tLoss: 0.214449\n",
            "Train Epoch: 3 [6400/60000 (11%)]\tLoss: 0.213274\n",
            "Train Epoch: 3 [12800/60000 (21%)]\tLoss: 0.332699\n",
            "Train Epoch: 3 [19200/60000 (32%)]\tLoss: 0.080570\n",
            "Train Epoch: 3 [25600/60000 (43%)]\tLoss: 0.091748\n",
            "Train Epoch: 3 [32000/60000 (53%)]\tLoss: 0.238680\n",
            "Train Epoch: 3 [38400/60000 (64%)]\tLoss: 0.119136\n",
            "Train Epoch: 3 [44800/60000 (75%)]\tLoss: 0.281705\n",
            "Train Epoch: 3 [51200/60000 (85%)]\tLoss: 0.165406\n",
            "Train Epoch: 3 [57600/60000 (96%)]\tLoss: 0.344652\n",
            "\n",
            "Train set: Average loss: 0.3724, Accuracy: 56152/60000 (93.6%)\n",
            "\n",
            "\n",
            "Test set: Average loss: 0.2074, Accuracy: 9407/10000 (94.070%)\n",
            "\n",
            "Train Epoch: 4 [0/60000 (0%)]\tLoss: 0.284241\n",
            "Train Epoch: 4 [6400/60000 (11%)]\tLoss: 0.168083\n",
            "Train Epoch: 4 [12800/60000 (21%)]\tLoss: 0.149536\n",
            "Train Epoch: 4 [19200/60000 (32%)]\tLoss: 0.159914\n",
            "Train Epoch: 4 [25600/60000 (43%)]\tLoss: 0.214231\n",
            "Train Epoch: 4 [32000/60000 (53%)]\tLoss: 0.163826\n",
            "Train Epoch: 4 [38400/60000 (64%)]\tLoss: 0.177018\n",
            "Train Epoch: 4 [44800/60000 (75%)]\tLoss: 0.246370\n",
            "Train Epoch: 4 [51200/60000 (85%)]\tLoss: 0.187521\n",
            "Train Epoch: 4 [57600/60000 (96%)]\tLoss: 0.057497\n",
            "\n",
            "Train set: Average loss: 0.3707, Accuracy: 56625/60000 (94.4%)\n",
            "\n",
            "\n",
            "Test set: Average loss: 0.1821, Accuracy: 9467/10000 (94.670%)\n",
            "\n",
            "Train Epoch: 5 [0/60000 (0%)]\tLoss: 0.200712\n",
            "Train Epoch: 5 [6400/60000 (11%)]\tLoss: 0.138836\n",
            "Train Epoch: 5 [12800/60000 (21%)]\tLoss: 0.429224\n",
            "Train Epoch: 5 [19200/60000 (32%)]\tLoss: 0.050168\n",
            "Train Epoch: 5 [25600/60000 (43%)]\tLoss: 0.115070\n",
            "Train Epoch: 5 [32000/60000 (53%)]\tLoss: 0.221276\n",
            "Train Epoch: 5 [38400/60000 (64%)]\tLoss: 0.125299\n",
            "Train Epoch: 5 [44800/60000 (75%)]\tLoss: 0.298252\n",
            "Train Epoch: 5 [51200/60000 (85%)]\tLoss: 0.272032\n",
            "Train Epoch: 5 [57600/60000 (96%)]\tLoss: 0.198295\n",
            "\n",
            "Train set: Average loss: 0.1329, Accuracy: 56932/60000 (94.9%)\n",
            "\n",
            "\n",
            "Test set: Average loss: 0.1752, Accuracy: 9475/10000 (94.750%)\n",
            "\n",
            "Train Epoch: 6 [0/60000 (0%)]\tLoss: 0.226966\n",
            "Train Epoch: 6 [6400/60000 (11%)]\tLoss: 0.093245\n",
            "Train Epoch: 6 [12800/60000 (21%)]\tLoss: 0.095606\n",
            "Train Epoch: 6 [19200/60000 (32%)]\tLoss: 0.120621\n",
            "Train Epoch: 6 [25600/60000 (43%)]\tLoss: 0.476364\n",
            "Train Epoch: 6 [32000/60000 (53%)]\tLoss: 0.241003\n",
            "Train Epoch: 6 [38400/60000 (64%)]\tLoss: 0.281038\n",
            "Train Epoch: 6 [44800/60000 (75%)]\tLoss: 0.251388\n",
            "Train Epoch: 6 [51200/60000 (85%)]\tLoss: 0.079572\n",
            "Train Epoch: 6 [57600/60000 (96%)]\tLoss: 0.196391\n",
            "\n",
            "Train set: Average loss: 0.1363, Accuracy: 57139/60000 (95.2%)\n",
            "\n",
            "\n",
            "Test set: Average loss: 0.1669, Accuracy: 9520/10000 (95.200%)\n",
            "\n",
            "Train Epoch: 7 [0/60000 (0%)]\tLoss: 0.269780\n",
            "Train Epoch: 7 [6400/60000 (11%)]\tLoss: 0.107414\n",
            "Train Epoch: 7 [12800/60000 (21%)]\tLoss: 0.128611\n",
            "Train Epoch: 7 [19200/60000 (32%)]\tLoss: 0.314620\n",
            "Train Epoch: 7 [25600/60000 (43%)]\tLoss: 0.101704\n",
            "Train Epoch: 7 [32000/60000 (53%)]\tLoss: 0.040355\n",
            "Train Epoch: 7 [38400/60000 (64%)]\tLoss: 0.338515\n",
            "Train Epoch: 7 [44800/60000 (75%)]\tLoss: 0.310211\n",
            "Train Epoch: 7 [51200/60000 (85%)]\tLoss: 0.158865\n",
            "Train Epoch: 7 [57600/60000 (96%)]\tLoss: 0.336092\n",
            "\n",
            "Train set: Average loss: 0.0470, Accuracy: 57316/60000 (95.5%)\n",
            "\n",
            "\n",
            "Test set: Average loss: 0.1685, Accuracy: 9512/10000 (95.120%)\n",
            "\n",
            "Train Epoch: 8 [0/60000 (0%)]\tLoss: 0.268494\n",
            "Train Epoch: 8 [6400/60000 (11%)]\tLoss: 0.094060\n",
            "Train Epoch: 8 [12800/60000 (21%)]\tLoss: 0.144195\n",
            "Train Epoch: 8 [19200/60000 (32%)]\tLoss: 0.234907\n",
            "Train Epoch: 8 [25600/60000 (43%)]\tLoss: 0.130571\n",
            "Train Epoch: 8 [32000/60000 (53%)]\tLoss: 0.225275\n",
            "Train Epoch: 8 [38400/60000 (64%)]\tLoss: 0.042512\n",
            "Train Epoch: 8 [44800/60000 (75%)]\tLoss: 0.168947\n",
            "Train Epoch: 8 [51200/60000 (85%)]\tLoss: 0.131829\n",
            "Train Epoch: 8 [57600/60000 (96%)]\tLoss: 0.237929\n",
            "\n",
            "Train set: Average loss: 0.2565, Accuracy: 57454/60000 (95.8%)\n",
            "\n",
            "\n",
            "Test set: Average loss: 0.1657, Accuracy: 9505/10000 (95.050%)\n",
            "\n",
            "Train Epoch: 9 [0/60000 (0%)]\tLoss: 0.081749\n",
            "Train Epoch: 9 [6400/60000 (11%)]\tLoss: 0.042060\n",
            "Train Epoch: 9 [12800/60000 (21%)]\tLoss: 0.084303\n",
            "Train Epoch: 9 [19200/60000 (32%)]\tLoss: 0.024997\n",
            "Train Epoch: 9 [25600/60000 (43%)]\tLoss: 0.188114\n",
            "Train Epoch: 9 [32000/60000 (53%)]\tLoss: 0.252208\n",
            "Train Epoch: 9 [38400/60000 (64%)]\tLoss: 0.224575\n",
            "Train Epoch: 9 [44800/60000 (75%)]\tLoss: 0.020421\n",
            "Train Epoch: 9 [51200/60000 (85%)]\tLoss: 0.204627\n",
            "Train Epoch: 9 [57600/60000 (96%)]\tLoss: 0.065961\n",
            "\n",
            "Train set: Average loss: 0.1037, Accuracy: 57586/60000 (96.0%)\n",
            "\n",
            "\n",
            "Test set: Average loss: 0.1526, Accuracy: 9554/10000 (95.540%)\n",
            "\n",
            "Train Epoch: 10 [0/60000 (0%)]\tLoss: 0.105559\n",
            "Train Epoch: 10 [6400/60000 (11%)]\tLoss: 0.119976\n",
            "Train Epoch: 10 [12800/60000 (21%)]\tLoss: 0.120573\n",
            "Train Epoch: 10 [19200/60000 (32%)]\tLoss: 0.205492\n",
            "Train Epoch: 10 [25600/60000 (43%)]\tLoss: 0.085637\n",
            "Train Epoch: 10 [32000/60000 (53%)]\tLoss: 0.378802\n",
            "Train Epoch: 10 [38400/60000 (64%)]\tLoss: 0.265409\n",
            "Train Epoch: 10 [44800/60000 (75%)]\tLoss: 0.045737\n",
            "Train Epoch: 10 [51200/60000 (85%)]\tLoss: 0.196530\n",
            "Train Epoch: 10 [57600/60000 (96%)]\tLoss: 0.065120\n",
            "\n",
            "Train set: Average loss: 0.4687, Accuracy: 57627/60000 (96.0%)\n",
            "\n",
            "\n",
            "Test set: Average loss: 0.1528, Accuracy: 9549/10000 (95.490%)\n",
            "\n",
            "Training is finished.\n"
          ]
        }
      ],
      "source": [
        "epochs = 10\n",
        "for epoch in range(1, epochs + 1):\n",
        "    train(mlp, dl_train, optimizer, epoch, log_interval=100)\n",
        "    test(mlp, dl_test)\n",
        "\n",
        "print ('Training is finished.')"
      ]
    },
    {
      "cell_type": "markdown",
      "metadata": {
        "id": "gQx_slTIIQdR"
      },
      "source": [
        "After training, you should see test accuracies of > **94%** - By they way, here we report test accuracy, the last exercises reported test error. Accuracy is simply (1 - error). Both metrics are commonly reported, there is no clear preference in literature for one or the other."
      ]
    },
    {
      "cell_type": "markdown",
      "metadata": {
        "id": "UpumcvmpIQdS"
      },
      "source": [
        "Now, can you do some parameter tuning to boost the test accuracy to > **97%**?"
      ]
    },
    {
      "cell_type": "code",
      "execution_count": 53,
      "metadata": {
        "colab": {
          "base_uri": "https://localhost:8080/"
        },
        "id": "KO5QUJ29IQdS",
        "outputId": "3120066b-0464-48cd-dc92-23c4bb41daf3"
      },
      "outputs": [
        {
          "output_type": "stream",
          "name": "stderr",
          "text": [
            "/usr/local/lib/python3.10/dist-packages/torch/utils/data/dataloader.py:557: UserWarning: This DataLoader will create 4 worker processes in total. Our suggested max number of worker in current system is 2, which is smaller than what this DataLoader is going to create. Please be aware that excessive worker creation might get DataLoader running slow or even freeze, lower the worker number to avoid potential slowness/freeze if necessary.\n",
            "  warnings.warn(_create_warning_msg(\n"
          ]
        },
        {
          "output_type": "stream",
          "name": "stdout",
          "text": [
            "Train Epoch: 1 [0/60000 (0%)]\tLoss: 2.338171\n",
            "Train Epoch: 1 [6400/60000 (11%)]\tLoss: 0.653768\n",
            "Train Epoch: 1 [12800/60000 (21%)]\tLoss: 0.250941\n",
            "Train Epoch: 1 [19200/60000 (32%)]\tLoss: 0.211536\n",
            "Train Epoch: 1 [25600/60000 (43%)]\tLoss: 0.504797\n",
            "Train Epoch: 1 [32000/60000 (53%)]\tLoss: 0.309305\n",
            "Train Epoch: 1 [38400/60000 (64%)]\tLoss: 0.217229\n",
            "Train Epoch: 1 [44800/60000 (75%)]\tLoss: 0.302671\n",
            "Train Epoch: 1 [51200/60000 (85%)]\tLoss: 0.244037\n",
            "Train Epoch: 1 [57600/60000 (96%)]\tLoss: 0.113182\n",
            "\n",
            "Train set: Average loss: 0.2693, Accuracy: 54788/60000 (91.3%)\n",
            "\n",
            "\n",
            "Test set: Average loss: 0.1709, Accuracy: 9503/10000 (95.030%)\n",
            "\n",
            "Train Epoch: 2 [0/60000 (0%)]\tLoss: 0.088606\n",
            "Train Epoch: 2 [6400/60000 (11%)]\tLoss: 0.122463\n",
            "Train Epoch: 2 [12800/60000 (21%)]\tLoss: 0.236485\n",
            "Train Epoch: 2 [19200/60000 (32%)]\tLoss: 0.144319\n",
            "Train Epoch: 2 [25600/60000 (43%)]\tLoss: 0.182791\n",
            "Train Epoch: 2 [32000/60000 (53%)]\tLoss: 0.233192\n",
            "Train Epoch: 2 [38400/60000 (64%)]\tLoss: 0.060977\n",
            "Train Epoch: 2 [44800/60000 (75%)]\tLoss: 0.081423\n",
            "Train Epoch: 2 [51200/60000 (85%)]\tLoss: 0.099944\n",
            "Train Epoch: 2 [57600/60000 (96%)]\tLoss: 0.084959\n",
            "\n",
            "Train set: Average loss: 0.0150, Accuracy: 57511/60000 (95.9%)\n",
            "\n",
            "\n",
            "Test set: Average loss: 0.1396, Accuracy: 9570/10000 (95.700%)\n",
            "\n",
            "Train Epoch: 3 [0/60000 (0%)]\tLoss: 0.224907\n",
            "Train Epoch: 3 [6400/60000 (11%)]\tLoss: 0.071600\n",
            "Train Epoch: 3 [12800/60000 (21%)]\tLoss: 0.109787\n",
            "Train Epoch: 3 [19200/60000 (32%)]\tLoss: 0.081701\n",
            "Train Epoch: 3 [25600/60000 (43%)]\tLoss: 0.182853\n",
            "Train Epoch: 3 [32000/60000 (53%)]\tLoss: 0.056808\n",
            "Train Epoch: 3 [38400/60000 (64%)]\tLoss: 0.147679\n",
            "Train Epoch: 3 [44800/60000 (75%)]\tLoss: 0.043792\n",
            "Train Epoch: 3 [51200/60000 (85%)]\tLoss: 0.042328\n",
            "Train Epoch: 3 [57600/60000 (96%)]\tLoss: 0.111967\n",
            "\n",
            "Train set: Average loss: 0.0239, Accuracy: 58075/60000 (96.8%)\n",
            "\n",
            "\n",
            "Test set: Average loss: 0.1077, Accuracy: 9666/10000 (96.660%)\n",
            "\n",
            "Train Epoch: 4 [0/60000 (0%)]\tLoss: 0.073103\n",
            "Train Epoch: 4 [6400/60000 (11%)]\tLoss: 0.049092\n",
            "Train Epoch: 4 [12800/60000 (21%)]\tLoss: 0.096236\n",
            "Train Epoch: 4 [19200/60000 (32%)]\tLoss: 0.030110\n",
            "Train Epoch: 4 [25600/60000 (43%)]\tLoss: 0.053631\n",
            "Train Epoch: 4 [32000/60000 (53%)]\tLoss: 0.036752\n",
            "Train Epoch: 4 [38400/60000 (64%)]\tLoss: 0.113345\n",
            "Train Epoch: 4 [44800/60000 (75%)]\tLoss: 0.106519\n",
            "Train Epoch: 4 [51200/60000 (85%)]\tLoss: 0.042082\n",
            "Train Epoch: 4 [57600/60000 (96%)]\tLoss: 0.137558\n",
            "\n",
            "Train set: Average loss: 0.2896, Accuracy: 58439/60000 (97.4%)\n",
            "\n",
            "\n",
            "Test set: Average loss: 0.0978, Accuracy: 9710/10000 (97.100%)\n",
            "\n",
            "Train Epoch: 5 [0/60000 (0%)]\tLoss: 0.092482\n",
            "Train Epoch: 5 [6400/60000 (11%)]\tLoss: 0.050456\n",
            "Train Epoch: 5 [12800/60000 (21%)]\tLoss: 0.097432\n",
            "Train Epoch: 5 [19200/60000 (32%)]\tLoss: 0.064364\n",
            "Train Epoch: 5 [25600/60000 (43%)]\tLoss: 0.082944\n",
            "Train Epoch: 5 [32000/60000 (53%)]\tLoss: 0.144103\n",
            "Train Epoch: 5 [38400/60000 (64%)]\tLoss: 0.067003\n",
            "Train Epoch: 5 [44800/60000 (75%)]\tLoss: 0.139356\n",
            "Train Epoch: 5 [51200/60000 (85%)]\tLoss: 0.045501\n",
            "Train Epoch: 5 [57600/60000 (96%)]\tLoss: 0.020588\n",
            "\n",
            "Train set: Average loss: 0.0117, Accuracy: 58724/60000 (97.9%)\n",
            "\n",
            "\n",
            "Test set: Average loss: 0.1030, Accuracy: 9695/10000 (96.950%)\n",
            "\n",
            "Train Epoch: 6 [0/60000 (0%)]\tLoss: 0.063596\n",
            "Train Epoch: 6 [6400/60000 (11%)]\tLoss: 0.071085\n",
            "Train Epoch: 6 [12800/60000 (21%)]\tLoss: 0.068444\n",
            "Train Epoch: 6 [19200/60000 (32%)]\tLoss: 0.044181\n",
            "Train Epoch: 6 [25600/60000 (43%)]\tLoss: 0.010524\n",
            "Train Epoch: 6 [32000/60000 (53%)]\tLoss: 0.020249\n",
            "Train Epoch: 6 [38400/60000 (64%)]\tLoss: 0.003976\n",
            "Train Epoch: 6 [44800/60000 (75%)]\tLoss: 0.093798\n",
            "Train Epoch: 6 [51200/60000 (85%)]\tLoss: 0.067127\n",
            "Train Epoch: 6 [57600/60000 (96%)]\tLoss: 0.118658\n",
            "\n",
            "Train set: Average loss: 0.0044, Accuracy: 58912/60000 (98.2%)\n",
            "\n",
            "\n",
            "Test set: Average loss: 0.0920, Accuracy: 9726/10000 (97.260%)\n",
            "\n",
            "Train Epoch: 7 [0/60000 (0%)]\tLoss: 0.011022\n",
            "Train Epoch: 7 [6400/60000 (11%)]\tLoss: 0.020136\n",
            "Train Epoch: 7 [12800/60000 (21%)]\tLoss: 0.025191\n",
            "Train Epoch: 7 [19200/60000 (32%)]\tLoss: 0.037534\n",
            "Train Epoch: 7 [25600/60000 (43%)]\tLoss: 0.120779\n",
            "Train Epoch: 7 [32000/60000 (53%)]\tLoss: 0.062554\n",
            "Train Epoch: 7 [38400/60000 (64%)]\tLoss: 0.091173\n",
            "Train Epoch: 7 [44800/60000 (75%)]\tLoss: 0.024617\n",
            "Train Epoch: 7 [51200/60000 (85%)]\tLoss: 0.040798\n",
            "Train Epoch: 7 [57600/60000 (96%)]\tLoss: 0.183205\n",
            "\n",
            "Train set: Average loss: 0.0224, Accuracy: 59025/60000 (98.4%)\n",
            "\n",
            "\n",
            "Test set: Average loss: 0.0936, Accuracy: 9726/10000 (97.260%)\n",
            "\n",
            "Train Epoch: 8 [0/60000 (0%)]\tLoss: 0.036978\n",
            "Train Epoch: 8 [6400/60000 (11%)]\tLoss: 0.050615\n",
            "Train Epoch: 8 [12800/60000 (21%)]\tLoss: 0.147799\n",
            "Train Epoch: 8 [19200/60000 (32%)]\tLoss: 0.002927\n",
            "Train Epoch: 8 [25600/60000 (43%)]\tLoss: 0.020226\n",
            "Train Epoch: 8 [32000/60000 (53%)]\tLoss: 0.024208\n",
            "Train Epoch: 8 [38400/60000 (64%)]\tLoss: 0.034546\n",
            "Train Epoch: 8 [44800/60000 (75%)]\tLoss: 0.115096\n",
            "Train Epoch: 8 [51200/60000 (85%)]\tLoss: 0.039152\n",
            "Train Epoch: 8 [57600/60000 (96%)]\tLoss: 0.053959\n",
            "\n",
            "Train set: Average loss: 0.0282, Accuracy: 59156/60000 (98.6%)\n",
            "\n",
            "\n",
            "Test set: Average loss: 0.0968, Accuracy: 9714/10000 (97.140%)\n",
            "\n",
            "Train Epoch: 9 [0/60000 (0%)]\tLoss: 0.009441\n",
            "Train Epoch: 9 [6400/60000 (11%)]\tLoss: 0.013301\n",
            "Train Epoch: 9 [12800/60000 (21%)]\tLoss: 0.055804\n",
            "Train Epoch: 9 [19200/60000 (32%)]\tLoss: 0.005813\n",
            "Train Epoch: 9 [25600/60000 (43%)]\tLoss: 0.059559\n",
            "Train Epoch: 9 [32000/60000 (53%)]\tLoss: 0.057353\n",
            "Train Epoch: 9 [38400/60000 (64%)]\tLoss: 0.001504\n",
            "Train Epoch: 9 [44800/60000 (75%)]\tLoss: 0.038674\n",
            "Train Epoch: 9 [51200/60000 (85%)]\tLoss: 0.024748\n",
            "Train Epoch: 9 [57600/60000 (96%)]\tLoss: 0.047541\n",
            "\n",
            "Train set: Average loss: 0.0177, Accuracy: 59234/60000 (98.7%)\n",
            "\n",
            "\n",
            "Test set: Average loss: 0.0937, Accuracy: 9720/10000 (97.200%)\n",
            "\n",
            "Train Epoch: 10 [0/60000 (0%)]\tLoss: 0.042125\n",
            "Train Epoch: 10 [6400/60000 (11%)]\tLoss: 0.049290\n",
            "Train Epoch: 10 [12800/60000 (21%)]\tLoss: 0.050230\n",
            "Train Epoch: 10 [19200/60000 (32%)]\tLoss: 0.024793\n",
            "Train Epoch: 10 [25600/60000 (43%)]\tLoss: 0.026477\n",
            "Train Epoch: 10 [32000/60000 (53%)]\tLoss: 0.122481\n",
            "Train Epoch: 10 [38400/60000 (64%)]\tLoss: 0.009883\n",
            "Train Epoch: 10 [44800/60000 (75%)]\tLoss: 0.036864\n",
            "Train Epoch: 10 [51200/60000 (85%)]\tLoss: 0.005540\n",
            "Train Epoch: 10 [57600/60000 (96%)]\tLoss: 0.025697\n",
            "\n",
            "Train set: Average loss: 0.0187, Accuracy: 59313/60000 (98.9%)\n",
            "\n",
            "\n",
            "Test set: Average loss: 0.0942, Accuracy: 9732/10000 (97.320%)\n",
            "\n",
            "Training is finished.\n"
          ]
        }
      ],
      "source": [
        "#########################################################################\n",
        "#TODO: modify the parameters below to see which setting that you can get to 97%\n",
        "#########################################################################\n",
        "nLayer = 2\n",
        "nHidden = 64\n",
        "act_fn = nn.ReLU()\n",
        "\n",
        "# reinitialize the mlp, so we can play with parameters right here\n",
        "mlp = MLP(nInput, nOutput, nLayer, nHidden, act_fn)\n",
        "optimizer = optim.Adam(mlp.parameters())\n",
        "\n",
        "epochs = 10\n",
        "for epoch in range(1, epochs + 1):\n",
        "    train(mlp, dl_train, optimizer, epoch, log_interval=100)\n",
        "    test(mlp, dl_test)\n",
        "\n",
        "print ('Training is finished.')"
      ]
    },
    {
      "cell_type": "markdown",
      "metadata": {
        "id": "-nPp7phJIQdT"
      },
      "source": [
        "Before you move on to the next exercise, you can further play with the other parameters (learning rate, epochs, a different optimizer, etc.) to get a feeling what can improve or hamper performance."
      ]
    },
    {
      "cell_type": "markdown",
      "metadata": {
        "id": "EAr7EdlBIQdU"
      },
      "source": [
        "## CNN\n",
        "Alright, we matched our prior performance. Let's surpass it! You will soon see the power of CNN by building a small one yourself. The structure should be as follows\n",
        "\n",
        "| CNN Architecture                             \t|\n",
        "|----------------------------------------------\t|\n",
        "| Conv: $C_{in}=1, C_{out}=32, K=3, S=1, P=0$  \t|\n",
        "| ReLU                                         \t|\n",
        "| Conv: $C_{in}=32, C_{out}=64, K=3, S=1, P=0$ \t|\n",
        "| ReLU                                         \t|\n",
        "| MaxPool2d: $K=2, S=2, P=0$                   \t|\n",
        "| Dropout: $p=0.25$                            \t|\n",
        "| Linear: $C_{in}=9216, C_{out}=128$           \t|\n",
        "| ReLU                                         \t|\n",
        "| Dropout: $p=0.5$                             \t|\n",
        "| Linear: $C_{in}=128, C_{out}=10$             \t|\n",
        "\n",
        "The layers you will need are:\n",
        "\n",
        "`nn.Conv2d,  nn.Linear,  nn.Dropout, nn.MaxPool2d, nn.Flatten`\n",
        "\n",
        "For layers without parameters you can alternatively use function in the forward pass:  \n",
        "\n",
        "`F.max_pool2d, torch.flatten`"
      ]
    },
    {
      "cell_type": "code",
      "execution_count": 84,
      "metadata": {
        "id": "BJxytyAPIQdV"
      },
      "outputs": [],
      "source": [
        "from torchvision.transforms.functional import pad\n",
        "#########################################################################\n",
        "# TODO: Implement the __init__ and forward method of the CNN class.\n",
        "# Hint: do not forget to flatten the appropriate dimension after the convolutional blocks.\n",
        "# A linear layers expect input of the size (B, H) with batch size B and feature size H\n",
        "#########################################################################\n",
        "\n",
        "class CNN(nn.Module):\n",
        "    def __init__(self):\n",
        "        super(CNN, self).__init__()\n",
        "\n",
        "        self.model = nn.Sequential(\n",
        "            nn.Conv2d(in_channels=1, out_channels=32, kernel_size=3, stride=1, padding=0),\n",
        "            nn.ReLU(),\n",
        "            nn.Conv2d(in_channels=32, out_channels=64, kernel_size=3, stride=1, padding=0),\n",
        "            nn.ReLU(),\n",
        "            nn.MaxPool2d(kernel_size=2, stride=2, padding=0),\n",
        "            nn.Dropout(p=0.25),\n",
        "            nn.Flatten(),\n",
        "            nn.Linear(in_features=9216, out_features=128),\n",
        "            nn.ReLU(),\n",
        "            nn.Dropout(p=0.5),\n",
        "            nn.Linear(in_features=128, out_features=10),\n",
        "        )\n",
        "\n",
        "    def forward(self, x):\n",
        "        return self.model(x)\n"
      ]
    },
    {
      "cell_type": "code",
      "execution_count": 55,
      "metadata": {
        "colab": {
          "base_uri": "https://localhost:8080/"
        },
        "id": "tRueQzQ7IQdW",
        "outputId": "0509bafa-f106-4585-eeb8-c604ce22f8ee"
      },
      "outputs": [
        {
          "output_type": "execute_result",
          "data": {
            "text/plain": [
              "torch.Size([1, 10])"
            ]
          },
          "metadata": {},
          "execution_count": 55
        }
      ],
      "source": [
        "# Let's test if the forward pass works\n",
        "# this should print torch.Size([1, 10])\n",
        "t = torch.randn(1,1,28,28)\n",
        "cnn = CNN()\n",
        "cnn(t).shape"
      ]
    },
    {
      "cell_type": "markdown",
      "metadata": {
        "id": "stwaNfONIQdX"
      },
      "source": [
        "Alright, let's train!"
      ]
    },
    {
      "cell_type": "code",
      "execution_count": 56,
      "metadata": {
        "id": "Y8kEXm78IQdY"
      },
      "outputs": [],
      "source": [
        "optimizer = optim.Adam(cnn.parameters())"
      ]
    },
    {
      "cell_type": "code",
      "execution_count": 57,
      "metadata": {
        "scrolled": true,
        "colab": {
          "base_uri": "https://localhost:8080/"
        },
        "id": "FKp00ZJXIQdZ",
        "outputId": "b1ebdfcb-c61d-4be4-c602-470cd6ee8221"
      },
      "outputs": [
        {
          "output_type": "stream",
          "name": "stderr",
          "text": [
            "/usr/local/lib/python3.10/dist-packages/torch/utils/data/dataloader.py:557: UserWarning: This DataLoader will create 4 worker processes in total. Our suggested max number of worker in current system is 2, which is smaller than what this DataLoader is going to create. Please be aware that excessive worker creation might get DataLoader running slow or even freeze, lower the worker number to avoid potential slowness/freeze if necessary.\n",
            "  warnings.warn(_create_warning_msg(\n"
          ]
        },
        {
          "output_type": "stream",
          "name": "stdout",
          "text": [
            "Train Epoch: 1 [0/60000 (0%)]\tLoss: 2.298992\n",
            "Train Epoch: 1 [6400/60000 (11%)]\tLoss: 0.237985\n",
            "Train Epoch: 1 [12800/60000 (21%)]\tLoss: 0.127144\n",
            "Train Epoch: 1 [19200/60000 (32%)]\tLoss: 0.228972\n",
            "Train Epoch: 1 [25600/60000 (43%)]\tLoss: 0.069284\n",
            "Train Epoch: 1 [32000/60000 (53%)]\tLoss: 0.173807\n",
            "Train Epoch: 1 [38400/60000 (64%)]\tLoss: 0.088206\n",
            "Train Epoch: 1 [44800/60000 (75%)]\tLoss: 0.048126\n",
            "Train Epoch: 1 [51200/60000 (85%)]\tLoss: 0.023541\n",
            "Train Epoch: 1 [57600/60000 (96%)]\tLoss: 0.095081\n",
            "\n",
            "Train set: Average loss: 0.1377, Accuracy: 56448/60000 (94.1%)\n",
            "\n",
            "\n",
            "Test set: Average loss: 0.0535, Accuracy: 9836/10000 (98.360%)\n",
            "\n",
            "Train Epoch: 2 [0/60000 (0%)]\tLoss: 0.150483\n",
            "Train Epoch: 2 [6400/60000 (11%)]\tLoss: 0.034687\n",
            "Train Epoch: 2 [12800/60000 (21%)]\tLoss: 0.072987\n",
            "Train Epoch: 2 [19200/60000 (32%)]\tLoss: 0.199129\n",
            "Train Epoch: 2 [25600/60000 (43%)]\tLoss: 0.028158\n",
            "Train Epoch: 2 [32000/60000 (53%)]\tLoss: 0.004934\n",
            "Train Epoch: 2 [38400/60000 (64%)]\tLoss: 0.069625\n",
            "Train Epoch: 2 [44800/60000 (75%)]\tLoss: 0.023319\n",
            "Train Epoch: 2 [51200/60000 (85%)]\tLoss: 0.087426\n",
            "Train Epoch: 2 [57600/60000 (96%)]\tLoss: 0.099621\n",
            "\n",
            "Train set: Average loss: 0.2200, Accuracy: 58545/60000 (97.6%)\n",
            "\n",
            "\n",
            "Test set: Average loss: 0.0358, Accuracy: 9876/10000 (98.760%)\n",
            "\n",
            "Train Epoch: 3 [0/60000 (0%)]\tLoss: 0.131629\n",
            "Train Epoch: 3 [6400/60000 (11%)]\tLoss: 0.077554\n",
            "Train Epoch: 3 [12800/60000 (21%)]\tLoss: 0.066899\n",
            "Train Epoch: 3 [19200/60000 (32%)]\tLoss: 0.046623\n",
            "Train Epoch: 3 [25600/60000 (43%)]\tLoss: 0.100176\n",
            "Train Epoch: 3 [32000/60000 (53%)]\tLoss: 0.093551\n",
            "Train Epoch: 3 [38400/60000 (64%)]\tLoss: 0.088324\n",
            "Train Epoch: 3 [44800/60000 (75%)]\tLoss: 0.047709\n",
            "Train Epoch: 3 [51200/60000 (85%)]\tLoss: 0.025295\n",
            "Train Epoch: 3 [57600/60000 (96%)]\tLoss: 0.011943\n",
            "\n",
            "Train set: Average loss: 0.0022, Accuracy: 58822/60000 (98.0%)\n",
            "\n",
            "\n",
            "Test set: Average loss: 0.0354, Accuracy: 9885/10000 (98.850%)\n",
            "\n",
            "Train Epoch: 4 [0/60000 (0%)]\tLoss: 0.020368\n",
            "Train Epoch: 4 [6400/60000 (11%)]\tLoss: 0.099730\n",
            "Train Epoch: 4 [12800/60000 (21%)]\tLoss: 0.007000\n",
            "Train Epoch: 4 [19200/60000 (32%)]\tLoss: 0.006392\n",
            "Train Epoch: 4 [25600/60000 (43%)]\tLoss: 0.036165\n",
            "Train Epoch: 4 [32000/60000 (53%)]\tLoss: 0.032045\n",
            "Train Epoch: 4 [38400/60000 (64%)]\tLoss: 0.177111\n",
            "Train Epoch: 4 [44800/60000 (75%)]\tLoss: 0.027686\n",
            "Train Epoch: 4 [51200/60000 (85%)]\tLoss: 0.087884\n",
            "Train Epoch: 4 [57600/60000 (96%)]\tLoss: 0.071621\n",
            "\n",
            "Train set: Average loss: 0.0799, Accuracy: 59088/60000 (98.5%)\n",
            "\n",
            "\n",
            "Test set: Average loss: 0.0347, Accuracy: 9899/10000 (98.990%)\n",
            "\n",
            "Train Epoch: 5 [0/60000 (0%)]\tLoss: 0.032517\n",
            "Train Epoch: 5 [6400/60000 (11%)]\tLoss: 0.044376\n",
            "Train Epoch: 5 [12800/60000 (21%)]\tLoss: 0.045888\n",
            "Train Epoch: 5 [19200/60000 (32%)]\tLoss: 0.090828\n",
            "Train Epoch: 5 [25600/60000 (43%)]\tLoss: 0.052246\n",
            "Train Epoch: 5 [32000/60000 (53%)]\tLoss: 0.053424\n",
            "Train Epoch: 5 [38400/60000 (64%)]\tLoss: 0.037002\n",
            "Train Epoch: 5 [44800/60000 (75%)]\tLoss: 0.036266\n",
            "Train Epoch: 5 [51200/60000 (85%)]\tLoss: 0.088059\n",
            "Train Epoch: 5 [57600/60000 (96%)]\tLoss: 0.073084\n",
            "\n",
            "Train set: Average loss: 0.0997, Accuracy: 59153/60000 (98.6%)\n",
            "\n",
            "\n",
            "Test set: Average loss: 0.0306, Accuracy: 9912/10000 (99.120%)\n",
            "\n"
          ]
        }
      ],
      "source": [
        "epochs = 5\n",
        "for epoch in range(1, epochs + 1):\n",
        "    train(cnn, dl_train, optimizer, epoch, log_interval=100)\n",
        "    test(cnn, dl_test)"
      ]
    },
    {
      "cell_type": "markdown",
      "metadata": {
        "id": "mW7XJWRPIQda"
      },
      "source": [
        "This will probably take a bit longer to train, as a convolutional network is not very efficient on a CPU. The current settings should get you around **99%** accuracy. Nice!\n",
        "Again, you should try different hyperparameters and see how far you can push the performance."
      ]
    },
    {
      "cell_type": "markdown",
      "metadata": {
        "id": "oGzK-T9NIQdb"
      },
      "source": [
        "### Inline Question\n",
        "\n",
        "If your model weight is randomly initalized, and no training is done as above. What accuracy do you think the model will get for a 10-class classification task in theory?\n",
        "\n",
        "**Your answer**: 0.1\n",
        "<br>**Explanation**: If a neural network model is randomly initialized without any training, its weights and biases are set to random values. In this scenario, the model essentially makes random predictions, and its accuracy on a 10-class classification task would be close to random chance, which is $( \\frac{1}{N} )$, where $( N )$ is the number of classes.\n",
        "\n",
        "For a 10-class classification task, the accuracy of the randomly initialized model would be approximately $( \\frac{1}{10} = 0.1 )$ or 10%. This means that the model would, on average, correctly classify 10% of the samples purely by chance.\n"
      ]
    },
    {
      "cell_type": "markdown",
      "metadata": {
        "id": "SVohzJWVIQdb"
      },
      "source": [
        "## Training on CIFAR10\n",
        "\n",
        "Now we are going to move to something more challenging - CIFAR10. We can reuse most of the code above. Thankfully, CIFAR is also a popular dataset, so we can again make use of a PyTorch convience function."
      ]
    },
    {
      "cell_type": "code",
      "execution_count": 76,
      "metadata": {
        "colab": {
          "base_uri": "https://localhost:8080/"
        },
        "id": "4xAF6AW2IQdc",
        "outputId": "0729f03a-2735-4934-a283-282845e0511d"
      },
      "outputs": [
        {
          "output_type": "stream",
          "name": "stdout",
          "text": [
            "Files already downloaded and verified\n"
          ]
        }
      ],
      "source": [
        "ds_train = datasets.CIFAR10(root='./data', train=True, download=True)"
      ]
    },
    {
      "cell_type": "markdown",
      "metadata": {
        "id": "j0c-jh7TIQdd"
      },
      "source": [
        "This dataset is not normalized yet, so we need to calculate the normalization constants."
      ]
    },
    {
      "cell_type": "code",
      "execution_count": 77,
      "metadata": {
        "id": "2kc3caaXIQdd"
      },
      "outputs": [],
      "source": [
        "ims_train = torch.tensor(ds_train.data)\n",
        "ims_train = ims_train.float() / 255."
      ]
    },
    {
      "cell_type": "code",
      "execution_count": 78,
      "metadata": {
        "colab": {
          "base_uri": "https://localhost:8080/"
        },
        "id": "ilAYkK7lIQde",
        "outputId": "6948159e-e2ed-4165-c962-ad1655eaf102"
      },
      "outputs": [
        {
          "output_type": "execute_result",
          "data": {
            "text/plain": [
              "tensor([0.2470, 0.2435, 0.2616])"
            ]
          },
          "metadata": {},
          "execution_count": 78
        }
      ],
      "source": [
        "ims_train.std((0,1,2))"
      ]
    },
    {
      "cell_type": "code",
      "execution_count": 79,
      "metadata": {
        "id": "uc_N_HPKIQdf"
      },
      "outputs": [],
      "source": [
        "#########################################################################\n",
        "# TODO: calculate the mean and std of CIFAR\n",
        "# hint: We want the mean and std of the channel dimension, these should\n",
        "# be 3 dimensional\n",
        "#########################################################################\n",
        "mu = torch.mean(ims_train, dim=(0, 1, 2))\n",
        "std = torch.std(ims_train, dim=(0, 1, 2))"
      ]
    },
    {
      "cell_type": "code",
      "execution_count": 80,
      "metadata": {
        "colab": {
          "base_uri": "https://localhost:8080/"
        },
        "id": "ni0BVU6cIQdg",
        "outputId": "705d9fc4-6740-4cd7-cde0-612c2918e5ce"
      },
      "outputs": [
        {
          "output_type": "execute_result",
          "data": {
            "text/plain": [
              "tensor([0.4914, 0.4822, 0.4465])"
            ]
          },
          "metadata": {},
          "execution_count": 80
        }
      ],
      "source": [
        "torch.mean(ims_train, dim=(0,1,2))"
      ]
    },
    {
      "cell_type": "markdown",
      "metadata": {
        "id": "4ves3ggkIQdh"
      },
      "source": [
        "For CIFAR we want to make use of data augmentation to improve generalization. You will find all data augmentations data are included in torchvision here:\n",
        "\n",
        "https://pytorch.org/docs/stable/torchvision/transforms.html"
      ]
    },
    {
      "cell_type": "code",
      "execution_count": 85,
      "metadata": {
        "colab": {
          "base_uri": "https://localhost:8080/"
        },
        "id": "2IGUdOJoIQdi",
        "outputId": "2f62a80e-9b3d-44ef-f7a1-0e695f4d6d8c"
      },
      "outputs": [
        {
          "output_type": "stream",
          "name": "stdout",
          "text": [
            "Files already downloaded and verified\n",
            "Files already downloaded and verified\n"
          ]
        }
      ],
      "source": [
        "BATCH_SIZE = 128\n",
        "NUM_WORKERS = 4 # if you encounter some unexpected errors in data loading, try setting `NUM_WORKERS = 0`\n",
        "#########################################################################\n",
        "# TODO: Implement the proper transforms for the training and test dataloaders.\n",
        "# Then build train and test dataloaders with batch size 128 and 4 workers\n",
        "#\n",
        "# Train:\n",
        "# - Apply a random crop with size 32 on a padded version of the image with P=4\n",
        "# - Flip the image horizontally with a probability of 40 %\n",
        "# - Transform to a Tensor\n",
        "# - Normalize with the constants calculated above\n",
        "# Test:\n",
        "# - Transform to a Tensor\n",
        "# - Normalize with the constants calculated above\n",
        "#########################################################################\n",
        "transform_train = transforms.Compose([\n",
        "    transforms.RandomCrop(32, padding=4),  # Random crop with padding\n",
        "    transforms.RandomHorizontalFlip(p=0.4),  # Horizontal flip with a probability of 40%\n",
        "    transforms.ToTensor(),  # Convert to tensor\n",
        "    transforms.Normalize(mu, std)  # Normalize using precomputed mean and std\n",
        "])\n",
        "transform_test = transforms.Compose([\n",
        "    transforms.ToTensor(),  # Convert to tensor\n",
        "    transforms.Normalize(mu, std)  # Normalize using precomputed mean and std\n",
        "])\n",
        "\n",
        "ds_train = datasets.CIFAR10('./data', train=True, download=True, transform=transform_train)\n",
        "ds_test = datasets.CIFAR10('./data', train=False, download=True, transform=transform_test)\n",
        "\n",
        "dl_train = DataLoader(ds_train, batch_size=BATCH_SIZE, shuffle=True, num_workers=NUM_WORKERS)\n",
        "dl_test = DataLoader(ds_test, batch_size=BATCH_SIZE, shuffle=False, num_workers=NUM_WORKERS)"
      ]
    },
    {
      "cell_type": "markdown",
      "metadata": {
        "id": "l0uX3TqdIQdj"
      },
      "source": [
        "Setting up the  optimizer, this time we use SGD. The scheduler adapts the learning rate during traing (you can ignore it)"
      ]
    },
    {
      "cell_type": "code",
      "execution_count": 86,
      "metadata": {
        "id": "VjWagzdtIQdj"
      },
      "outputs": [],
      "source": [
        "cnn = CNN()\n",
        "optimizer = optim.SGD(cnn.parameters(), lr=0.1, momentum=0.9, weight_decay=5e-4)\n",
        "scheduler = torch.optim.lr_scheduler.CosineAnnealingLR(optimizer, T_max=200)"
      ]
    },
    {
      "cell_type": "code",
      "execution_count": 87,
      "metadata": {
        "scrolled": true,
        "colab": {
          "base_uri": "https://localhost:8080/",
          "height": 392
        },
        "id": "m2mamQPQIQdk",
        "outputId": "dd85339b-b3c7-4c64-b70a-9be555977e34"
      },
      "outputs": [
        {
          "output_type": "error",
          "ename": "RuntimeError",
          "evalue": "ignored",
          "traceback": [
            "\u001b[0;31m---------------------------------------------------------------------------\u001b[0m",
            "\u001b[0;31mRuntimeError\u001b[0m                              Traceback (most recent call last)",
            "\u001b[0;32m<ipython-input-87-ba9429f4ef5e>\u001b[0m in \u001b[0;36m<cell line: 2>\u001b[0;34m()\u001b[0m\n\u001b[1;32m      1\u001b[0m \u001b[0mepochs\u001b[0m \u001b[0;34m=\u001b[0m \u001b[0;36m5\u001b[0m\u001b[0;34m\u001b[0m\u001b[0;34m\u001b[0m\u001b[0m\n\u001b[1;32m      2\u001b[0m \u001b[0;32mfor\u001b[0m \u001b[0mepoch\u001b[0m \u001b[0;32min\u001b[0m \u001b[0mrange\u001b[0m\u001b[0;34m(\u001b[0m\u001b[0;36m1\u001b[0m\u001b[0;34m,\u001b[0m \u001b[0mepochs\u001b[0m \u001b[0;34m+\u001b[0m \u001b[0;36m1\u001b[0m\u001b[0;34m)\u001b[0m\u001b[0;34m:\u001b[0m\u001b[0;34m\u001b[0m\u001b[0;34m\u001b[0m\u001b[0m\n\u001b[0;32m----> 3\u001b[0;31m     \u001b[0mtrain\u001b[0m\u001b[0;34m(\u001b[0m\u001b[0mcnn\u001b[0m\u001b[0;34m,\u001b[0m \u001b[0mdl_train\u001b[0m\u001b[0;34m,\u001b[0m \u001b[0moptimizer\u001b[0m\u001b[0;34m,\u001b[0m \u001b[0mepoch\u001b[0m\u001b[0;34m,\u001b[0m \u001b[0mlog_interval\u001b[0m\u001b[0;34m=\u001b[0m\u001b[0;36m100\u001b[0m\u001b[0;34m)\u001b[0m\u001b[0;34m\u001b[0m\u001b[0;34m\u001b[0m\u001b[0m\n\u001b[0m\u001b[1;32m      4\u001b[0m     \u001b[0mtest\u001b[0m\u001b[0;34m(\u001b[0m\u001b[0mcnn\u001b[0m\u001b[0;34m,\u001b[0m \u001b[0mdl_test\u001b[0m\u001b[0;34m)\u001b[0m\u001b[0;34m\u001b[0m\u001b[0;34m\u001b[0m\u001b[0m\n\u001b[1;32m      5\u001b[0m     \u001b[0mscheduler\u001b[0m\u001b[0;34m.\u001b[0m\u001b[0mstep\u001b[0m\u001b[0;34m(\u001b[0m\u001b[0;34m)\u001b[0m\u001b[0;34m\u001b[0m\u001b[0;34m\u001b[0m\u001b[0m\n",
            "\u001b[0;32m<ipython-input-48-093212d2aa70>\u001b[0m in \u001b[0;36mtrain\u001b[0;34m(model, dl_train, optimizer, epoch, log_interval, device)\u001b[0m\n\u001b[1;32m     15\u001b[0m \u001b[0;34m\u001b[0m\u001b[0m\n\u001b[1;32m     16\u001b[0m         \u001b[0;31m##### implement this part #####\u001b[0m\u001b[0;34m\u001b[0m\u001b[0;34m\u001b[0m\u001b[0m\n\u001b[0;32m---> 17\u001b[0;31m         \u001b[0moutput\u001b[0m \u001b[0;34m=\u001b[0m \u001b[0mmodel\u001b[0m\u001b[0;34m(\u001b[0m\u001b[0mdata\u001b[0m\u001b[0;34m)\u001b[0m\u001b[0;34m\u001b[0m\u001b[0;34m\u001b[0m\u001b[0m\n\u001b[0m\u001b[1;32m     18\u001b[0m         loss = F.cross_entropy(\n\u001b[1;32m     19\u001b[0m             \u001b[0minput\u001b[0m\u001b[0;34m=\u001b[0m\u001b[0moutput\u001b[0m\u001b[0;34m,\u001b[0m\u001b[0;34m\u001b[0m\u001b[0;34m\u001b[0m\u001b[0m\n",
            "\u001b[0;32m/usr/local/lib/python3.10/dist-packages/torch/nn/modules/module.py\u001b[0m in \u001b[0;36m_wrapped_call_impl\u001b[0;34m(self, *args, **kwargs)\u001b[0m\n\u001b[1;32m   1516\u001b[0m             \u001b[0;32mreturn\u001b[0m \u001b[0mself\u001b[0m\u001b[0;34m.\u001b[0m\u001b[0m_compiled_call_impl\u001b[0m\u001b[0;34m(\u001b[0m\u001b[0;34m*\u001b[0m\u001b[0margs\u001b[0m\u001b[0;34m,\u001b[0m \u001b[0;34m**\u001b[0m\u001b[0mkwargs\u001b[0m\u001b[0;34m)\u001b[0m  \u001b[0;31m# type: ignore[misc]\u001b[0m\u001b[0;34m\u001b[0m\u001b[0;34m\u001b[0m\u001b[0m\n\u001b[1;32m   1517\u001b[0m         \u001b[0;32melse\u001b[0m\u001b[0;34m:\u001b[0m\u001b[0;34m\u001b[0m\u001b[0;34m\u001b[0m\u001b[0m\n\u001b[0;32m-> 1518\u001b[0;31m             \u001b[0;32mreturn\u001b[0m \u001b[0mself\u001b[0m\u001b[0;34m.\u001b[0m\u001b[0m_call_impl\u001b[0m\u001b[0;34m(\u001b[0m\u001b[0;34m*\u001b[0m\u001b[0margs\u001b[0m\u001b[0;34m,\u001b[0m \u001b[0;34m**\u001b[0m\u001b[0mkwargs\u001b[0m\u001b[0;34m)\u001b[0m\u001b[0;34m\u001b[0m\u001b[0;34m\u001b[0m\u001b[0m\n\u001b[0m\u001b[1;32m   1519\u001b[0m \u001b[0;34m\u001b[0m\u001b[0m\n\u001b[1;32m   1520\u001b[0m     \u001b[0;32mdef\u001b[0m \u001b[0m_call_impl\u001b[0m\u001b[0;34m(\u001b[0m\u001b[0mself\u001b[0m\u001b[0;34m,\u001b[0m \u001b[0;34m*\u001b[0m\u001b[0margs\u001b[0m\u001b[0;34m,\u001b[0m \u001b[0;34m**\u001b[0m\u001b[0mkwargs\u001b[0m\u001b[0;34m)\u001b[0m\u001b[0;34m:\u001b[0m\u001b[0;34m\u001b[0m\u001b[0;34m\u001b[0m\u001b[0m\n",
            "\u001b[0;32m/usr/local/lib/python3.10/dist-packages/torch/nn/modules/module.py\u001b[0m in \u001b[0;36m_call_impl\u001b[0;34m(self, *args, **kwargs)\u001b[0m\n\u001b[1;32m   1525\u001b[0m                 \u001b[0;32mor\u001b[0m \u001b[0m_global_backward_pre_hooks\u001b[0m \u001b[0;32mor\u001b[0m \u001b[0m_global_backward_hooks\u001b[0m\u001b[0;34m\u001b[0m\u001b[0;34m\u001b[0m\u001b[0m\n\u001b[1;32m   1526\u001b[0m                 or _global_forward_hooks or _global_forward_pre_hooks):\n\u001b[0;32m-> 1527\u001b[0;31m             \u001b[0;32mreturn\u001b[0m \u001b[0mforward_call\u001b[0m\u001b[0;34m(\u001b[0m\u001b[0;34m*\u001b[0m\u001b[0margs\u001b[0m\u001b[0;34m,\u001b[0m \u001b[0;34m**\u001b[0m\u001b[0mkwargs\u001b[0m\u001b[0;34m)\u001b[0m\u001b[0;34m\u001b[0m\u001b[0;34m\u001b[0m\u001b[0m\n\u001b[0m\u001b[1;32m   1528\u001b[0m \u001b[0;34m\u001b[0m\u001b[0m\n\u001b[1;32m   1529\u001b[0m         \u001b[0;32mtry\u001b[0m\u001b[0;34m:\u001b[0m\u001b[0;34m\u001b[0m\u001b[0;34m\u001b[0m\u001b[0m\n",
            "\u001b[0;32m<ipython-input-84-76043274c555>\u001b[0m in \u001b[0;36mforward\u001b[0;34m(self, x)\u001b[0m\n\u001b[1;32m     25\u001b[0m \u001b[0;34m\u001b[0m\u001b[0m\n\u001b[1;32m     26\u001b[0m     \u001b[0;32mdef\u001b[0m \u001b[0mforward\u001b[0m\u001b[0;34m(\u001b[0m\u001b[0mself\u001b[0m\u001b[0;34m,\u001b[0m \u001b[0mx\u001b[0m\u001b[0;34m)\u001b[0m\u001b[0;34m:\u001b[0m\u001b[0;34m\u001b[0m\u001b[0;34m\u001b[0m\u001b[0m\n\u001b[0;32m---> 27\u001b[0;31m         \u001b[0;32mreturn\u001b[0m \u001b[0mself\u001b[0m\u001b[0;34m.\u001b[0m\u001b[0mmodel\u001b[0m\u001b[0;34m(\u001b[0m\u001b[0mx\u001b[0m\u001b[0;34m)\u001b[0m\u001b[0;34m\u001b[0m\u001b[0;34m\u001b[0m\u001b[0m\n\u001b[0m",
            "\u001b[0;32m/usr/local/lib/python3.10/dist-packages/torch/nn/modules/module.py\u001b[0m in \u001b[0;36m_wrapped_call_impl\u001b[0;34m(self, *args, **kwargs)\u001b[0m\n\u001b[1;32m   1516\u001b[0m             \u001b[0;32mreturn\u001b[0m \u001b[0mself\u001b[0m\u001b[0;34m.\u001b[0m\u001b[0m_compiled_call_impl\u001b[0m\u001b[0;34m(\u001b[0m\u001b[0;34m*\u001b[0m\u001b[0margs\u001b[0m\u001b[0;34m,\u001b[0m \u001b[0;34m**\u001b[0m\u001b[0mkwargs\u001b[0m\u001b[0;34m)\u001b[0m  \u001b[0;31m# type: ignore[misc]\u001b[0m\u001b[0;34m\u001b[0m\u001b[0;34m\u001b[0m\u001b[0m\n\u001b[1;32m   1517\u001b[0m         \u001b[0;32melse\u001b[0m\u001b[0;34m:\u001b[0m\u001b[0;34m\u001b[0m\u001b[0;34m\u001b[0m\u001b[0m\n\u001b[0;32m-> 1518\u001b[0;31m             \u001b[0;32mreturn\u001b[0m \u001b[0mself\u001b[0m\u001b[0;34m.\u001b[0m\u001b[0m_call_impl\u001b[0m\u001b[0;34m(\u001b[0m\u001b[0;34m*\u001b[0m\u001b[0margs\u001b[0m\u001b[0;34m,\u001b[0m \u001b[0;34m**\u001b[0m\u001b[0mkwargs\u001b[0m\u001b[0;34m)\u001b[0m\u001b[0;34m\u001b[0m\u001b[0;34m\u001b[0m\u001b[0m\n\u001b[0m\u001b[1;32m   1519\u001b[0m \u001b[0;34m\u001b[0m\u001b[0m\n\u001b[1;32m   1520\u001b[0m     \u001b[0;32mdef\u001b[0m \u001b[0m_call_impl\u001b[0m\u001b[0;34m(\u001b[0m\u001b[0mself\u001b[0m\u001b[0;34m,\u001b[0m \u001b[0;34m*\u001b[0m\u001b[0margs\u001b[0m\u001b[0;34m,\u001b[0m \u001b[0;34m**\u001b[0m\u001b[0mkwargs\u001b[0m\u001b[0;34m)\u001b[0m\u001b[0;34m:\u001b[0m\u001b[0;34m\u001b[0m\u001b[0;34m\u001b[0m\u001b[0m\n",
            "\u001b[0;32m/usr/local/lib/python3.10/dist-packages/torch/nn/modules/module.py\u001b[0m in \u001b[0;36m_call_impl\u001b[0;34m(self, *args, **kwargs)\u001b[0m\n\u001b[1;32m   1525\u001b[0m                 \u001b[0;32mor\u001b[0m \u001b[0m_global_backward_pre_hooks\u001b[0m \u001b[0;32mor\u001b[0m \u001b[0m_global_backward_hooks\u001b[0m\u001b[0;34m\u001b[0m\u001b[0;34m\u001b[0m\u001b[0m\n\u001b[1;32m   1526\u001b[0m                 or _global_forward_hooks or _global_forward_pre_hooks):\n\u001b[0;32m-> 1527\u001b[0;31m             \u001b[0;32mreturn\u001b[0m \u001b[0mforward_call\u001b[0m\u001b[0;34m(\u001b[0m\u001b[0;34m*\u001b[0m\u001b[0margs\u001b[0m\u001b[0;34m,\u001b[0m \u001b[0;34m**\u001b[0m\u001b[0mkwargs\u001b[0m\u001b[0;34m)\u001b[0m\u001b[0;34m\u001b[0m\u001b[0;34m\u001b[0m\u001b[0m\n\u001b[0m\u001b[1;32m   1528\u001b[0m \u001b[0;34m\u001b[0m\u001b[0m\n\u001b[1;32m   1529\u001b[0m         \u001b[0;32mtry\u001b[0m\u001b[0;34m:\u001b[0m\u001b[0;34m\u001b[0m\u001b[0;34m\u001b[0m\u001b[0m\n",
            "\u001b[0;32m/usr/local/lib/python3.10/dist-packages/torch/nn/modules/container.py\u001b[0m in \u001b[0;36mforward\u001b[0;34m(self, input)\u001b[0m\n\u001b[1;32m    213\u001b[0m     \u001b[0;32mdef\u001b[0m \u001b[0mforward\u001b[0m\u001b[0;34m(\u001b[0m\u001b[0mself\u001b[0m\u001b[0;34m,\u001b[0m \u001b[0minput\u001b[0m\u001b[0;34m)\u001b[0m\u001b[0;34m:\u001b[0m\u001b[0;34m\u001b[0m\u001b[0;34m\u001b[0m\u001b[0m\n\u001b[1;32m    214\u001b[0m         \u001b[0;32mfor\u001b[0m \u001b[0mmodule\u001b[0m \u001b[0;32min\u001b[0m \u001b[0mself\u001b[0m\u001b[0;34m:\u001b[0m\u001b[0;34m\u001b[0m\u001b[0;34m\u001b[0m\u001b[0m\n\u001b[0;32m--> 215\u001b[0;31m             \u001b[0minput\u001b[0m \u001b[0;34m=\u001b[0m \u001b[0mmodule\u001b[0m\u001b[0;34m(\u001b[0m\u001b[0minput\u001b[0m\u001b[0;34m)\u001b[0m\u001b[0;34m\u001b[0m\u001b[0;34m\u001b[0m\u001b[0m\n\u001b[0m\u001b[1;32m    216\u001b[0m         \u001b[0;32mreturn\u001b[0m \u001b[0minput\u001b[0m\u001b[0;34m\u001b[0m\u001b[0;34m\u001b[0m\u001b[0m\n\u001b[1;32m    217\u001b[0m \u001b[0;34m\u001b[0m\u001b[0m\n",
            "\u001b[0;32m/usr/local/lib/python3.10/dist-packages/torch/nn/modules/module.py\u001b[0m in \u001b[0;36m_wrapped_call_impl\u001b[0;34m(self, *args, **kwargs)\u001b[0m\n\u001b[1;32m   1516\u001b[0m             \u001b[0;32mreturn\u001b[0m \u001b[0mself\u001b[0m\u001b[0;34m.\u001b[0m\u001b[0m_compiled_call_impl\u001b[0m\u001b[0;34m(\u001b[0m\u001b[0;34m*\u001b[0m\u001b[0margs\u001b[0m\u001b[0;34m,\u001b[0m \u001b[0;34m**\u001b[0m\u001b[0mkwargs\u001b[0m\u001b[0;34m)\u001b[0m  \u001b[0;31m# type: ignore[misc]\u001b[0m\u001b[0;34m\u001b[0m\u001b[0;34m\u001b[0m\u001b[0m\n\u001b[1;32m   1517\u001b[0m         \u001b[0;32melse\u001b[0m\u001b[0;34m:\u001b[0m\u001b[0;34m\u001b[0m\u001b[0;34m\u001b[0m\u001b[0m\n\u001b[0;32m-> 1518\u001b[0;31m             \u001b[0;32mreturn\u001b[0m \u001b[0mself\u001b[0m\u001b[0;34m.\u001b[0m\u001b[0m_call_impl\u001b[0m\u001b[0;34m(\u001b[0m\u001b[0;34m*\u001b[0m\u001b[0margs\u001b[0m\u001b[0;34m,\u001b[0m \u001b[0;34m**\u001b[0m\u001b[0mkwargs\u001b[0m\u001b[0;34m)\u001b[0m\u001b[0;34m\u001b[0m\u001b[0;34m\u001b[0m\u001b[0m\n\u001b[0m\u001b[1;32m   1519\u001b[0m \u001b[0;34m\u001b[0m\u001b[0m\n\u001b[1;32m   1520\u001b[0m     \u001b[0;32mdef\u001b[0m \u001b[0m_call_impl\u001b[0m\u001b[0;34m(\u001b[0m\u001b[0mself\u001b[0m\u001b[0;34m,\u001b[0m \u001b[0;34m*\u001b[0m\u001b[0margs\u001b[0m\u001b[0;34m,\u001b[0m \u001b[0;34m**\u001b[0m\u001b[0mkwargs\u001b[0m\u001b[0;34m)\u001b[0m\u001b[0;34m:\u001b[0m\u001b[0;34m\u001b[0m\u001b[0;34m\u001b[0m\u001b[0m\n",
            "\u001b[0;32m/usr/local/lib/python3.10/dist-packages/torch/nn/modules/module.py\u001b[0m in \u001b[0;36m_call_impl\u001b[0;34m(self, *args, **kwargs)\u001b[0m\n\u001b[1;32m   1525\u001b[0m                 \u001b[0;32mor\u001b[0m \u001b[0m_global_backward_pre_hooks\u001b[0m \u001b[0;32mor\u001b[0m \u001b[0m_global_backward_hooks\u001b[0m\u001b[0;34m\u001b[0m\u001b[0;34m\u001b[0m\u001b[0m\n\u001b[1;32m   1526\u001b[0m                 or _global_forward_hooks or _global_forward_pre_hooks):\n\u001b[0;32m-> 1527\u001b[0;31m             \u001b[0;32mreturn\u001b[0m \u001b[0mforward_call\u001b[0m\u001b[0;34m(\u001b[0m\u001b[0;34m*\u001b[0m\u001b[0margs\u001b[0m\u001b[0;34m,\u001b[0m \u001b[0;34m**\u001b[0m\u001b[0mkwargs\u001b[0m\u001b[0;34m)\u001b[0m\u001b[0;34m\u001b[0m\u001b[0;34m\u001b[0m\u001b[0m\n\u001b[0m\u001b[1;32m   1528\u001b[0m \u001b[0;34m\u001b[0m\u001b[0m\n\u001b[1;32m   1529\u001b[0m         \u001b[0;32mtry\u001b[0m\u001b[0;34m:\u001b[0m\u001b[0;34m\u001b[0m\u001b[0;34m\u001b[0m\u001b[0m\n",
            "\u001b[0;32m/usr/local/lib/python3.10/dist-packages/torch/nn/modules/conv.py\u001b[0m in \u001b[0;36mforward\u001b[0;34m(self, input)\u001b[0m\n\u001b[1;32m    458\u001b[0m \u001b[0;34m\u001b[0m\u001b[0m\n\u001b[1;32m    459\u001b[0m     \u001b[0;32mdef\u001b[0m \u001b[0mforward\u001b[0m\u001b[0;34m(\u001b[0m\u001b[0mself\u001b[0m\u001b[0;34m,\u001b[0m \u001b[0minput\u001b[0m\u001b[0;34m:\u001b[0m \u001b[0mTensor\u001b[0m\u001b[0;34m)\u001b[0m \u001b[0;34m->\u001b[0m \u001b[0mTensor\u001b[0m\u001b[0;34m:\u001b[0m\u001b[0;34m\u001b[0m\u001b[0;34m\u001b[0m\u001b[0m\n\u001b[0;32m--> 460\u001b[0;31m         \u001b[0;32mreturn\u001b[0m \u001b[0mself\u001b[0m\u001b[0;34m.\u001b[0m\u001b[0m_conv_forward\u001b[0m\u001b[0;34m(\u001b[0m\u001b[0minput\u001b[0m\u001b[0;34m,\u001b[0m \u001b[0mself\u001b[0m\u001b[0;34m.\u001b[0m\u001b[0mweight\u001b[0m\u001b[0;34m,\u001b[0m \u001b[0mself\u001b[0m\u001b[0;34m.\u001b[0m\u001b[0mbias\u001b[0m\u001b[0;34m)\u001b[0m\u001b[0;34m\u001b[0m\u001b[0;34m\u001b[0m\u001b[0m\n\u001b[0m\u001b[1;32m    461\u001b[0m \u001b[0;34m\u001b[0m\u001b[0m\n\u001b[1;32m    462\u001b[0m \u001b[0;32mclass\u001b[0m \u001b[0mConv3d\u001b[0m\u001b[0;34m(\u001b[0m\u001b[0m_ConvNd\u001b[0m\u001b[0;34m)\u001b[0m\u001b[0;34m:\u001b[0m\u001b[0;34m\u001b[0m\u001b[0;34m\u001b[0m\u001b[0m\n",
            "\u001b[0;32m/usr/local/lib/python3.10/dist-packages/torch/nn/modules/conv.py\u001b[0m in \u001b[0;36m_conv_forward\u001b[0;34m(self, input, weight, bias)\u001b[0m\n\u001b[1;32m    454\u001b[0m                             \u001b[0mweight\u001b[0m\u001b[0;34m,\u001b[0m \u001b[0mbias\u001b[0m\u001b[0;34m,\u001b[0m \u001b[0mself\u001b[0m\u001b[0;34m.\u001b[0m\u001b[0mstride\u001b[0m\u001b[0;34m,\u001b[0m\u001b[0;34m\u001b[0m\u001b[0;34m\u001b[0m\u001b[0m\n\u001b[1;32m    455\u001b[0m                             _pair(0), self.dilation, self.groups)\n\u001b[0;32m--> 456\u001b[0;31m         return F.conv2d(input, weight, bias, self.stride,\n\u001b[0m\u001b[1;32m    457\u001b[0m                         self.padding, self.dilation, self.groups)\n\u001b[1;32m    458\u001b[0m \u001b[0;34m\u001b[0m\u001b[0m\n",
            "\u001b[0;31mRuntimeError\u001b[0m: Given groups=1, weight of size [32, 1, 3, 3], expected input[128, 3, 32, 32] to have 1 channels, but got 3 channels instead"
          ]
        }
      ],
      "source": [
        "epochs = 5\n",
        "for epoch in range(1, epochs + 1):\n",
        "    train(cnn, dl_train, optimizer, epoch, log_interval=100)\n",
        "    test(cnn, dl_test)\n",
        "    scheduler.step()"
      ]
    },
    {
      "cell_type": "markdown",
      "metadata": {
        "id": "0oo1s5SIIQdk"
      },
      "source": [
        "This will not work. You should see the following error message\n",
        "\n",
        "```\n",
        "Given groups=1, weight of size [32, 1, 3, 3], expected input[128, 3, 32, 32] to have 1 channels, but got 3 channels instead\n",
        "```\n",
        "\n",
        "This error is telling us that something is not right in the definition of our model. Copy the CNN class from above and make changes, so the training works."
      ]
    },
    {
      "cell_type": "code",
      "execution_count": 88,
      "metadata": {
        "id": "R8PDipoKIQdl"
      },
      "outputs": [],
      "source": [
        "#########################################################################\n",
        "# TODO: Adapt the definition from the CNN class above to work on CIFAR.\n",
        "# You can copy and run the following prompt for evaluation:\n",
        "# CNN()(torch.randn(1,3,32,32)).shape\n",
        "# It should print 'torch.Size([1, 10])'\n",
        "# Hint: You need to change 2 things.\n",
        "#########################################################################\n",
        "\n",
        "class CNN(nn.Module):\n",
        "    def __init__(self):\n",
        "        super(CNN, self).__init__()\n",
        "\n",
        "        self.model = nn.Sequential(\n",
        "            nn.Conv2d(in_channels=3, out_channels=32, kernel_size=3, stride=1, padding=0), # change in_channels\n",
        "            nn.ReLU(),\n",
        "            nn.Conv2d(in_channels=32, out_channels=64, kernel_size=3, stride=1, padding=0),\n",
        "            nn.ReLU(),\n",
        "            nn.MaxPool2d(kernel_size=2, stride=2, padding=0),\n",
        "            nn.Dropout(p=0.25),\n",
        "            nn.Flatten(),\n",
        "            nn.Linear(in_features=12544, out_features=128), # change in_features\n",
        "            nn.ReLU(),\n",
        "            nn.Dropout(p=0.5),\n",
        "            nn.Linear(in_features=128, out_features=10),\n",
        "        )\n",
        "\n",
        "    def forward(self, x):\n",
        "        return self.model(x)"
      ]
    },
    {
      "cell_type": "markdown",
      "metadata": {
        "id": "znF5EL2XIQdm"
      },
      "source": [
        "Let's try again"
      ]
    },
    {
      "cell_type": "code",
      "execution_count": 89,
      "metadata": {
        "scrolled": true,
        "colab": {
          "base_uri": "https://localhost:8080/"
        },
        "id": "g0DSrCF3IQdn",
        "outputId": "000f0733-1822-4333-f4d0-0caf2d555c75"
      },
      "outputs": [
        {
          "output_type": "stream",
          "name": "stdout",
          "text": [
            "Train Epoch: 1 [0/50000 (0%)]\tLoss: 2.305185\n",
            "Train Epoch: 1 [12800/50000 (26%)]\tLoss: 1.972704\n",
            "Train Epoch: 1 [25600/50000 (51%)]\tLoss: 1.964490\n",
            "Train Epoch: 1 [38400/50000 (77%)]\tLoss: 1.872564\n",
            "\n",
            "Train set: Average loss: 1.7353, Accuracy: 13018/50000 (26.0%)\n",
            "\n",
            "\n",
            "Test set: Average loss: 1.6729, Accuracy: 3961/10000 (39.610%)\n",
            "\n",
            "Train Epoch: 2 [0/50000 (0%)]\tLoss: 1.777187\n",
            "Train Epoch: 2 [12800/50000 (26%)]\tLoss: 1.750554\n",
            "Train Epoch: 2 [25600/50000 (51%)]\tLoss: 1.709414\n",
            "Train Epoch: 2 [38400/50000 (77%)]\tLoss: 1.840279\n",
            "\n",
            "Train set: Average loss: 1.7861, Accuracy: 16888/50000 (33.8%)\n",
            "\n",
            "\n",
            "Test set: Average loss: 1.5351, Accuracy: 4399/10000 (43.990%)\n",
            "\n",
            "Train Epoch: 3 [0/50000 (0%)]\tLoss: 1.855874\n",
            "Train Epoch: 3 [12800/50000 (26%)]\tLoss: 1.705381\n",
            "Train Epoch: 3 [25600/50000 (51%)]\tLoss: 1.600605\n",
            "Train Epoch: 3 [38400/50000 (77%)]\tLoss: 1.607972\n",
            "\n",
            "Train set: Average loss: 1.7851, Accuracy: 18294/50000 (36.6%)\n",
            "\n",
            "\n",
            "Test set: Average loss: 1.5028, Accuracy: 4494/10000 (44.940%)\n",
            "\n",
            "Train Epoch: 4 [0/50000 (0%)]\tLoss: 1.752470\n",
            "Train Epoch: 4 [12800/50000 (26%)]\tLoss: 1.672759\n",
            "Train Epoch: 4 [25600/50000 (51%)]\tLoss: 1.710387\n",
            "Train Epoch: 4 [38400/50000 (77%)]\tLoss: 1.691203\n",
            "\n",
            "Train set: Average loss: 1.7015, Accuracy: 19033/50000 (38.1%)\n",
            "\n",
            "\n",
            "Test set: Average loss: 1.4580, Accuracy: 4735/10000 (47.350%)\n",
            "\n",
            "Train Epoch: 5 [0/50000 (0%)]\tLoss: 1.777917\n",
            "Train Epoch: 5 [12800/50000 (26%)]\tLoss: 1.585437\n",
            "Train Epoch: 5 [25600/50000 (51%)]\tLoss: 1.877834\n",
            "Train Epoch: 5 [38400/50000 (77%)]\tLoss: 1.617240\n",
            "\n",
            "Train set: Average loss: 1.6345, Accuracy: 19772/50000 (39.5%)\n",
            "\n",
            "\n",
            "Test set: Average loss: 1.4245, Accuracy: 4853/10000 (48.530%)\n",
            "\n",
            "Train Epoch: 6 [0/50000 (0%)]\tLoss: 1.710240\n",
            "Train Epoch: 6 [12800/50000 (26%)]\tLoss: 1.751211\n",
            "Train Epoch: 6 [25600/50000 (51%)]\tLoss: 1.788153\n",
            "Train Epoch: 6 [38400/50000 (77%)]\tLoss: 1.408810\n",
            "\n",
            "Train set: Average loss: 1.4489, Accuracy: 20010/50000 (40.0%)\n",
            "\n",
            "\n",
            "Test set: Average loss: 1.3886, Accuracy: 5008/10000 (50.080%)\n",
            "\n",
            "Train Epoch: 7 [0/50000 (0%)]\tLoss: 1.444783\n",
            "Train Epoch: 7 [12800/50000 (26%)]\tLoss: 1.808149\n",
            "Train Epoch: 7 [25600/50000 (51%)]\tLoss: 1.768848\n",
            "Train Epoch: 7 [38400/50000 (77%)]\tLoss: 1.674500\n",
            "\n",
            "Train set: Average loss: 1.6294, Accuracy: 20469/50000 (40.9%)\n",
            "\n",
            "\n",
            "Test set: Average loss: 1.4809, Accuracy: 4679/10000 (46.790%)\n",
            "\n",
            "Train Epoch: 8 [0/50000 (0%)]\tLoss: 1.680543\n",
            "Train Epoch: 8 [12800/50000 (26%)]\tLoss: 1.625157\n",
            "Train Epoch: 8 [25600/50000 (51%)]\tLoss: 1.762629\n",
            "Train Epoch: 8 [38400/50000 (77%)]\tLoss: 1.408485\n",
            "\n",
            "Train set: Average loss: 1.4987, Accuracy: 20383/50000 (40.8%)\n",
            "\n",
            "\n",
            "Test set: Average loss: 1.4007, Accuracy: 4993/10000 (49.930%)\n",
            "\n",
            "Train Epoch: 9 [0/50000 (0%)]\tLoss: 1.459482\n",
            "Train Epoch: 9 [12800/50000 (26%)]\tLoss: 1.569827\n",
            "Train Epoch: 9 [25600/50000 (51%)]\tLoss: 1.752931\n",
            "Train Epoch: 9 [38400/50000 (77%)]\tLoss: 1.770629\n",
            "\n",
            "Train set: Average loss: 1.4952, Accuracy: 20696/50000 (41.4%)\n",
            "\n",
            "\n",
            "Test set: Average loss: 1.3703, Accuracy: 5041/10000 (50.410%)\n",
            "\n",
            "Train Epoch: 10 [0/50000 (0%)]\tLoss: 1.449571\n",
            "Train Epoch: 10 [12800/50000 (26%)]\tLoss: 2.068020\n",
            "Train Epoch: 10 [25600/50000 (51%)]\tLoss: 1.932672\n",
            "Train Epoch: 10 [38400/50000 (77%)]\tLoss: 1.759678\n",
            "\n",
            "Train set: Average loss: 1.5209, Accuracy: 20831/50000 (41.7%)\n",
            "\n",
            "\n",
            "Test set: Average loss: 1.3830, Accuracy: 5115/10000 (51.150%)\n",
            "\n"
          ]
        }
      ],
      "source": [
        "cnn = CNN()\n",
        "optimizer = optim.SGD(cnn.parameters(), lr=0.1, momentum=0.9, weight_decay=5e-4)\n",
        "scheduler = torch.optim.lr_scheduler.CosineAnnealingLR(optimizer, T_max=200)\n",
        "\n",
        "epochs = 10\n",
        "for epoch in range(1, epochs + 1):\n",
        "    train(cnn, dl_train, optimizer, epoch, log_interval=100)\n",
        "    test(cnn, dl_test)\n",
        "    scheduler.step()"
      ]
    },
    {
      "cell_type": "markdown",
      "metadata": {
        "id": "-wsnp886IQdo"
      },
      "source": [
        "This should give 40 - 50 % - and if you are not already on Colab it will give you a stressed out laptop. The performance is a lot better than random, but we can definitely do better."
      ]
    },
    {
      "cell_type": "markdown",
      "metadata": {
        "id": "MUwgN0N_IQdp"
      },
      "source": [
        "### Have fun with GPUs\n",
        "You can already call it a day until this point because we won't grade the rest of the excecise. You can have more fun with the rest :)\n"
      ]
    },
    {
      "cell_type": "markdown",
      "metadata": {
        "id": "B7280QStIQdq"
      },
      "source": [
        "\n",
        "If you didn't already, move to colab. To use a GPU, follow on the collaboratory menu tabs, \"Runtime\" => \"Change runtime type\" and set it to GPU. Then run the same training loop but now on GPU.\n",
        "\n",
        "It as easy as:"
      ]
    },
    {
      "cell_type": "code",
      "execution_count": null,
      "metadata": {
        "id": "GBzCat0nIQdq"
      },
      "outputs": [],
      "source": [
        "device = 'cuda'\n",
        "if device == 'cuda': torch.backends.cudnn.benchmark = True # additional speed up\n",
        "\n",
        "cnn = CNN()\n",
        "optimizer = optim.SGD(cnn.parameters(), lr=0.1, momentum=0.9, weight_decay=5e-4)\n",
        "scheduler = torch.optim.lr_scheduler.CosineAnnealingLR(optimizer, T_max=200)\n",
        "cnn = cnn.to(device)\n",
        "\n",
        "epochs = 10\n",
        "for epoch in range(1, epochs + 1):\n",
        "    train(cnn, dl_train, optimizer, epoch, log_interval=100, device=device)\n",
        "    test(cnn, dl_test, device=device)\n",
        "    scheduler.step()"
      ]
    },
    {
      "cell_type": "markdown",
      "metadata": {
        "id": "wm4joPL2IQds"
      },
      "source": [
        "This should be way faster now. But the true advantage of the GPU is that we can use much bigger models now and still train them in a reasonable amount of time. PyTorch is again very handy. The torchvision library comes with varies state-of-the-art model architectures, some of which you have seen in the lecture."
      ]
    },
    {
      "cell_type": "code",
      "execution_count": null,
      "metadata": {
        "id": "Nsfr1FYjIQdt"
      },
      "outputs": [],
      "source": [
        "from torchvision.models import resnet18"
      ]
    },
    {
      "cell_type": "code",
      "execution_count": null,
      "metadata": {
        "scrolled": true,
        "id": "tI5_MYi_IQdt"
      },
      "outputs": [],
      "source": [
        "cnn = resnet18()\n",
        "print(cnn)"
      ]
    },
    {
      "cell_type": "markdown",
      "metadata": {
        "id": "cq5Z3-NZIQdu"
      },
      "source": [
        "Looks scary! But the only thing you need to change to make it work on CIFAR is the last layer.\n",
        "Currently the last layer is:\n",
        "```\n",
        "  (fc): Linear(in_features=512, out_features=1000, bias=True)\n",
        "```\n",
        "out_features is the number of classes. This models are developed for Imagenet, a dataset with 1000 classes. So this part of the model you need to adapt. Additionally, you need to add a log-softmax layer again, as we us negative log-likelihood as the training criterion."
      ]
    },
    {
      "cell_type": "code",
      "execution_count": null,
      "metadata": {
        "id": "vN_MkqtMIQdu"
      },
      "outputs": [],
      "source": [
        "#########################################################################\n",
        "# TODO: Adapt the Resnet to work on CIFAR\n",
        "#########################################################################\n",
        "num_classes = 10\n",
        "cnn.fc = nn.Linear(cnn.fc.in_features, num_classes)"
      ]
    },
    {
      "cell_type": "code",
      "execution_count": null,
      "metadata": {
        "id": "6KdtlsHtIQdv"
      },
      "outputs": [],
      "source": [
        "# This should print 'torch.Size([16, 10])'\n",
        "cnn(torch.randn(16,3,32,32)).shape"
      ]
    },
    {
      "cell_type": "code",
      "execution_count": null,
      "metadata": {
        "id": "hlMi9fHaIQdw"
      },
      "outputs": [],
      "source": [
        "device = 'cuda'\n",
        "if device == 'cuda': torch.backends.cudnn.benchmark = True # this gives us additional speed up\n",
        "\n",
        "optimizer = optim.SGD(cnn.parameters(), lr=0.1, momentum=0.9, weight_decay=5e-4)\n",
        "scheduler = torch.optim.lr_scheduler.CosineAnnealingLR(optimizer, T_max=200)\n",
        "cnn = cnn.to(device)\n",
        "\n",
        "epochs = 50\n",
        "for epoch in range(1, epochs + 1):\n",
        "    train(cnn, dl_train, optimizer, epoch, log_interval=100, device=device)\n",
        "    test(cnn, dl_test, device=device)\n",
        "    scheduler.step()"
      ]
    },
    {
      "cell_type": "markdown",
      "metadata": {
        "id": "byWI5rVCIQdx"
      },
      "source": [
        "This should get us well above 75%, the best we got was ~ 80%.\n",
        "\n",
        "Now, use different torchvision architectures, different optimizers (Adam is always a good choice), data augmentation techniques, and hyperparameter search to achieve a test accuracy of >90 %"
      ]
    },
    {
      "cell_type": "code",
      "execution_count": null,
      "metadata": {
        "id": "Y5nd7QsfIQdy"
      },
      "outputs": [],
      "source": []
    }
  ],
  "metadata": {
    "kernelspec": {
      "display_name": "Python 3.9.12 ('base')",
      "language": "python",
      "name": "python3"
    },
    "language_info": {
      "codemirror_mode": {
        "name": "ipython",
        "version": 3
      },
      "file_extension": ".py",
      "mimetype": "text/x-python",
      "name": "python",
      "nbconvert_exporter": "python",
      "pygments_lexer": "ipython3",
      "version": "3.9.12"
    },
    "vscode": {
      "interpreter": {
        "hash": "d268b61a0efacafa8645774cb6d0204c9f01d7563ef03f7672146d044e8f345c"
      }
    },
    "colab": {
      "provenance": []
    }
  },
  "nbformat": 4,
  "nbformat_minor": 0
}